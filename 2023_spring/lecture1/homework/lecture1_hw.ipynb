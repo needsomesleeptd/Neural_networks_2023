{
 "cells": [
  {
   "cell_type": "code",
   "execution_count": 49,
   "id": "8cc148dc-d83d-4c32-bbb0-3ffd82ba4e98",
   "metadata": {
    "is_executing": true
   },
   "outputs": [],
   "source": [
    "import numpy as np\n",
    "import pandas as pd\n",
    "import matplotlib.pyplot as plt\n",
    "\n",
    "from sklearn.linear_model import LinearRegression\n",
    "from sklearn.model_selection import train_test_split\n",
    "from sklearn.metrics import r2_score\n",
    "from sklearn.preprocessing import MinMaxScaler\n",
    "import pdb\n",
    "\n",
    "%matplotlib inline"
   ]
  },
  {
   "cell_type": "markdown",
   "id": "e3a06e1e-3bc0-4667-84f3-7e86698c3737",
   "metadata": {},
   "source": [
    "# Загружаем выборку Diamonds"
   ]
  },
  {
   "cell_type": "markdown",
   "id": "c731a143-3dc9-43e7-96f5-b1eff9093345",
   "metadata": {},
   "source": [
    "1. PRICE: price in US dollars (326-18,823)\n",
    "2. CARAT: weight of the diamond (0.2--5.01)\n",
    "3. CUT: quality of the cut (Fair, Good, Very Good, Premium, Ideal)\n",
    "4. COLOR: diamond colour, from J (worst) to D (best)\n",
    "5. CLARITY: a measurement of how clear the diamond is (I1 (worst), SI2, SI1, VS2, VS1, VVS2, VVS1, IF (best))\n",
    "6. X: length in mm (0--10.74)\n",
    "7. Y: width in mm (0--58.9)\n",
    "8. Z: depth in mm (0--31.8)\n",
    "9. DEPTH: total depth percentage = z / mean(x, y) = 2 * z / (x + y) (43--79)\n",
    "10. TABLE: width of top of diamond relative to widest point (43--95)"
   ]
  },
  {
   "cell_type": "code",
   "execution_count": 50,
   "id": "0f24cf86-653a-422b-9df1-8029fdccf153",
   "metadata": {},
   "outputs": [],
   "source": [
    "diamonds_df = pd.read_csv('diamonds.csv')"
   ]
  },
  {
   "cell_type": "code",
   "execution_count": 51,
   "id": "70d9ccfe-e1cf-4c90-a5ab-40ae0852f1ce",
   "metadata": {},
   "outputs": [
    {
     "data": {
      "text/html": [
       "<div>\n",
       "<style scoped>\n",
       "    .dataframe tbody tr th:only-of-type {\n",
       "        vertical-align: middle;\n",
       "    }\n",
       "\n",
       "    .dataframe tbody tr th {\n",
       "        vertical-align: top;\n",
       "    }\n",
       "\n",
       "    .dataframe thead th {\n",
       "        text-align: right;\n",
       "    }\n",
       "</style>\n",
       "<table border=\"1\" class=\"dataframe\">\n",
       "  <thead>\n",
       "    <tr style=\"text-align: right;\">\n",
       "      <th></th>\n",
       "      <th>Unnamed: 0</th>\n",
       "      <th>carat</th>\n",
       "      <th>cut</th>\n",
       "      <th>color</th>\n",
       "      <th>clarity</th>\n",
       "      <th>depth</th>\n",
       "      <th>table</th>\n",
       "      <th>price</th>\n",
       "      <th>x</th>\n",
       "      <th>y</th>\n",
       "      <th>z</th>\n",
       "    </tr>\n",
       "  </thead>\n",
       "  <tbody>\n",
       "    <tr>\n",
       "      <th>0</th>\n",
       "      <td>1</td>\n",
       "      <td>0.23</td>\n",
       "      <td>Ideal</td>\n",
       "      <td>E</td>\n",
       "      <td>SI2</td>\n",
       "      <td>61.5</td>\n",
       "      <td>55.0</td>\n",
       "      <td>326</td>\n",
       "      <td>3.95</td>\n",
       "      <td>3.98</td>\n",
       "      <td>2.43</td>\n",
       "    </tr>\n",
       "    <tr>\n",
       "      <th>1</th>\n",
       "      <td>2</td>\n",
       "      <td>0.21</td>\n",
       "      <td>Premium</td>\n",
       "      <td>E</td>\n",
       "      <td>SI1</td>\n",
       "      <td>59.8</td>\n",
       "      <td>61.0</td>\n",
       "      <td>326</td>\n",
       "      <td>3.89</td>\n",
       "      <td>3.84</td>\n",
       "      <td>2.31</td>\n",
       "    </tr>\n",
       "    <tr>\n",
       "      <th>2</th>\n",
       "      <td>3</td>\n",
       "      <td>0.23</td>\n",
       "      <td>Good</td>\n",
       "      <td>E</td>\n",
       "      <td>VS1</td>\n",
       "      <td>56.9</td>\n",
       "      <td>65.0</td>\n",
       "      <td>327</td>\n",
       "      <td>4.05</td>\n",
       "      <td>4.07</td>\n",
       "      <td>2.31</td>\n",
       "    </tr>\n",
       "    <tr>\n",
       "      <th>3</th>\n",
       "      <td>4</td>\n",
       "      <td>0.29</td>\n",
       "      <td>Premium</td>\n",
       "      <td>I</td>\n",
       "      <td>VS2</td>\n",
       "      <td>62.4</td>\n",
       "      <td>58.0</td>\n",
       "      <td>334</td>\n",
       "      <td>4.20</td>\n",
       "      <td>4.23</td>\n",
       "      <td>2.63</td>\n",
       "    </tr>\n",
       "    <tr>\n",
       "      <th>4</th>\n",
       "      <td>5</td>\n",
       "      <td>0.31</td>\n",
       "      <td>Good</td>\n",
       "      <td>J</td>\n",
       "      <td>SI2</td>\n",
       "      <td>63.3</td>\n",
       "      <td>58.0</td>\n",
       "      <td>335</td>\n",
       "      <td>4.34</td>\n",
       "      <td>4.35</td>\n",
       "      <td>2.75</td>\n",
       "    </tr>\n",
       "  </tbody>\n",
       "</table>\n",
       "</div>"
      ],
      "text/plain": [
       "   Unnamed: 0  carat      cut color clarity  depth  table  price     x     y  \\\n",
       "0           1   0.23    Ideal     E     SI2   61.5   55.0    326  3.95  3.98   \n",
       "1           2   0.21  Premium     E     SI1   59.8   61.0    326  3.89  3.84   \n",
       "2           3   0.23     Good     E     VS1   56.9   65.0    327  4.05  4.07   \n",
       "3           4   0.29  Premium     I     VS2   62.4   58.0    334  4.20  4.23   \n",
       "4           5   0.31     Good     J     SI2   63.3   58.0    335  4.34  4.35   \n",
       "\n",
       "      z  \n",
       "0  2.43  \n",
       "1  2.31  \n",
       "2  2.31  \n",
       "3  2.63  \n",
       "4  2.75  "
      ]
     },
     "execution_count": 51,
     "metadata": {},
     "output_type": "execute_result"
    }
   ],
   "source": [
    "diamonds_df.head()"
   ]
  },
  {
   "cell_type": "code",
   "execution_count": 52,
   "id": "fad21c95-f542-44ec-8f06-8f57fd42ddef",
   "metadata": {
    "is_executing": true
   },
   "outputs": [
    {
     "data": {
      "image/png": "[encoded data removed]",
      "text/plain": [
       "<Figure size 640x480 with 1 Axes>"
      ]
     },
     "metadata": {},
     "output_type": "display_data"
    }
   ],
   "source": [
    "plt.hist(diamonds_df['price'], bins=100)\n",
    "plt.grid();"
   ]
  },
  {
   "cell_type": "markdown",
   "id": "17ac44bb-86c7-424a-8b9b-0a21bf490683",
   "metadata": {},
   "source": [
    "# Подготовка данных"
   ]
  },
  {
   "cell_type": "code",
   "execution_count": 53,
   "id": "e19945ea-cecf-481e-a28b-3f9c11001918",
   "metadata": {
    "is_executing": true
   },
   "outputs": [],
   "source": [
    "features = ['carat', 'cut', 'color', 'clarity', 'depth', 'table', 'x', 'y', 'z']\n",
    "target = ['price']"
   ]
  },
  {
   "cell_type": "code",
   "execution_count": 54,
   "metadata": {
    "collapsed": false,
    "is_executing": true
   },
   "outputs": [
    {
     "name": "stdout",
     "output_type": "stream",
     "text": [
      "[1, 2]\n"
     ]
    }
   ],
   "source": [
    "print([1,2])"
   ]
  },
  {
   "cell_type": "code",
   "execution_count": 55,
   "id": "fbc43eb0-e77f-4765-8b0e-b9052c093855",
   "metadata": {},
   "outputs": [],
   "source": [
    "cut_transform = {'Fair': 0, 'Good': 1, 'Very Good': 2, 'Premium': 3, 'Ideal': 4}\n",
    "clarity_transform = {'I1': 0, 'SI2': 1, 'SI1': 2, 'VS2': 3, 'VS1': 4, 'VVS2': 5, 'VVS1': 6, 'IF': 7}\n",
    "color_transorm = {'D': 0, 'E': 1, 'F': 2, 'G': 3, 'H': 4, 'I': 5, 'J': 6}"
   ]
  },
  {
   "cell_type": "code",
   "execution_count": 56,
   "id": "6f82b34f-9ffc-478f-a103-b2cbbca49a94",
   "metadata": {},
   "outputs": [],
   "source": [
    "diamonds_df['cut'] = diamonds_df['cut'].apply(lambda x: cut_transform.get(x))\n",
    "diamonds_df['color'] = diamonds_df['color'].apply(lambda x: color_transorm.get(x))\n",
    "diamonds_df['clarity'] = diamonds_df['clarity'].apply(lambda x: clarity_transform.get(x))"
   ]
  },
  {
   "cell_type": "code",
   "execution_count": 57,
   "id": "0d9b6e3b",
   "metadata": {},
   "outputs": [
    {
     "data": {
      "text/html": [
       "<div>\n",
       "<style scoped>\n",
       "    .dataframe tbody tr th:only-of-type {\n",
       "        vertical-align: middle;\n",
       "    }\n",
       "\n",
       "    .dataframe tbody tr th {\n",
       "        vertical-align: top;\n",
       "    }\n",
       "\n",
       "    .dataframe thead th {\n",
       "        text-align: right;\n",
       "    }\n",
       "</style>\n",
       "<table border=\"1\" class=\"dataframe\">\n",
       "  <thead>\n",
       "    <tr style=\"text-align: right;\">\n",
       "      <th></th>\n",
       "      <th>Unnamed: 0</th>\n",
       "      <th>carat</th>\n",
       "      <th>cut</th>\n",
       "      <th>color</th>\n",
       "      <th>clarity</th>\n",
       "      <th>depth</th>\n",
       "      <th>table</th>\n",
       "      <th>price</th>\n",
       "      <th>x</th>\n",
       "      <th>y</th>\n",
       "      <th>z</th>\n",
       "    </tr>\n",
       "  </thead>\n",
       "  <tbody>\n",
       "    <tr>\n",
       "      <th>0</th>\n",
       "      <td>1</td>\n",
       "      <td>0.23</td>\n",
       "      <td>4</td>\n",
       "      <td>1</td>\n",
       "      <td>1</td>\n",
       "      <td>61.5</td>\n",
       "      <td>55.0</td>\n",
       "      <td>326</td>\n",
       "      <td>3.95</td>\n",
       "      <td>3.98</td>\n",
       "      <td>2.43</td>\n",
       "    </tr>\n",
       "    <tr>\n",
       "      <th>1</th>\n",
       "      <td>2</td>\n",
       "      <td>0.21</td>\n",
       "      <td>3</td>\n",
       "      <td>1</td>\n",
       "      <td>2</td>\n",
       "      <td>59.8</td>\n",
       "      <td>61.0</td>\n",
       "      <td>326</td>\n",
       "      <td>3.89</td>\n",
       "      <td>3.84</td>\n",
       "      <td>2.31</td>\n",
       "    </tr>\n",
       "    <tr>\n",
       "      <th>2</th>\n",
       "      <td>3</td>\n",
       "      <td>0.23</td>\n",
       "      <td>1</td>\n",
       "      <td>1</td>\n",
       "      <td>4</td>\n",
       "      <td>56.9</td>\n",
       "      <td>65.0</td>\n",
       "      <td>327</td>\n",
       "      <td>4.05</td>\n",
       "      <td>4.07</td>\n",
       "      <td>2.31</td>\n",
       "    </tr>\n",
       "    <tr>\n",
       "      <th>3</th>\n",
       "      <td>4</td>\n",
       "      <td>0.29</td>\n",
       "      <td>3</td>\n",
       "      <td>5</td>\n",
       "      <td>3</td>\n",
       "      <td>62.4</td>\n",
       "      <td>58.0</td>\n",
       "      <td>334</td>\n",
       "      <td>4.20</td>\n",
       "      <td>4.23</td>\n",
       "      <td>2.63</td>\n",
       "    </tr>\n",
       "    <tr>\n",
       "      <th>4</th>\n",
       "      <td>5</td>\n",
       "      <td>0.31</td>\n",
       "      <td>1</td>\n",
       "      <td>6</td>\n",
       "      <td>1</td>\n",
       "      <td>63.3</td>\n",
       "      <td>58.0</td>\n",
       "      <td>335</td>\n",
       "      <td>4.34</td>\n",
       "      <td>4.35</td>\n",
       "      <td>2.75</td>\n",
       "    </tr>\n",
       "  </tbody>\n",
       "</table>\n",
       "</div>"
      ],
      "text/plain": [
       "   Unnamed: 0  carat  cut  color  clarity  depth  table  price     x     y  \\\n",
       "0           1   0.23    4      1        1   61.5   55.0    326  3.95  3.98   \n",
       "1           2   0.21    3      1        2   59.8   61.0    326  3.89  3.84   \n",
       "2           3   0.23    1      1        4   56.9   65.0    327  4.05  4.07   \n",
       "3           4   0.29    3      5        3   62.4   58.0    334  4.20  4.23   \n",
       "4           5   0.31    1      6        1   63.3   58.0    335  4.34  4.35   \n",
       "\n",
       "      z  \n",
       "0  2.43  \n",
       "1  2.31  \n",
       "2  2.31  \n",
       "3  2.63  \n",
       "4  2.75  "
      ]
     },
     "execution_count": 57,
     "metadata": {},
     "output_type": "execute_result"
    }
   ],
   "source": [
    "diamonds_df.head()"
   ]
  },
  {
   "cell_type": "code",
   "execution_count": 58,
   "id": "8e5fa82b-92ed-4e79-adf2-422204b45e82",
   "metadata": {},
   "outputs": [],
   "source": [
    "X = diamonds_df[features].copy().values\n",
    "y = diamonds_df[target].values"
   ]
  },
  {
   "cell_type": "code",
   "execution_count": 59,
   "id": "baafcd96-b32e-469e-b354-fa0aba09db8f",
   "metadata": {},
   "outputs": [],
   "source": [
    "scaler = MinMaxScaler()\n",
    "X = scaler.fit_transform(X)"
   ]
  },
  {
   "cell_type": "code",
   "execution_count": 60,
   "id": "64c11d68-dc5c-4753-9cc4-3cc4e136f3cb",
   "metadata": {},
   "outputs": [],
   "source": [
    "X_train, X_test, y_train, y_test = train_test_split(X, y, random_state=47, test_size=0.3)"
   ]
  },
  {
   "cell_type": "markdown",
   "id": "3b743ed1-d0cf-485d-b8f2-8c71fc174e8b",
   "metadata": {},
   "source": [
    "# Обучаем модель линейной регрессии"
   ]
  },
  {
   "cell_type": "code",
   "execution_count": 61,
   "id": "0068e36f-040e-4aa3-bb06-88aa95051478",
   "metadata": {},
   "outputs": [],
   "source": [
    "reg = LinearRegression().fit(X_train, y_train)"
   ]
  },
  {
   "cell_type": "code",
   "execution_count": 62,
   "id": "f968e336-4049-41b2-81d1-4c24f0969bbb",
   "metadata": {},
   "outputs": [],
   "source": [
    "y_pred = reg.predict(X_test)"
   ]
  },
  {
   "cell_type": "code",
   "execution_count": 63,
   "id": "0952990a-b3d6-4da4-9cc6-1ab3a7a25ac7",
   "metadata": {},
   "outputs": [],
   "source": [
    "score = r2_score(y_pred, y_test)"
   ]
  },
  {
   "cell_type": "code",
   "execution_count": 64,
   "id": "f89c3bbd-0a3a-48ac-b1ab-b75dc0c5bcce",
   "metadata": {},
   "outputs": [
    {
     "data": {
      "image/png": "[encoded data removed]",
      "text/plain": [
       "<Figure size 640x480 with 1 Axes>"
      ]
     },
     "metadata": {},
     "output_type": "display_data"
    }
   ],
   "source": [
    "plt.title(f'R2: {str(score)[:5]}')\n",
    "plt.hist(y_pred.reshape(1, -1)[0], bins=100, label='PREDICTION')\n",
    "plt.hist(y_test.reshape(1, -1)[0], bins=100, label='GT')\n",
    "plt.legend()\n",
    "plt.grid();"
   ]
  },
  {
   "cell_type": "markdown",
   "id": "7886f8b7-ba2e-4fde-8b91-f815ea961fe5",
   "metadata": {},
   "source": [
    "# Создаём модель MLP для задачи регрессии"
   ]
  },
  {
   "cell_type": "code",
   "execution_count": 282,
   "id": "061fbe90",
   "metadata": {},
   "outputs": [],
   "source": [
    "class SigmoidLayer:\n",
    "    def __init__(self) -> None:\n",
    "        pass\n",
    "    def forward(self,X):\n",
    "        self.y = 1/(1 + np.exp(-X))\n",
    "        return self.y\n",
    "    def backward(self,dLdy):\n",
    "        return dLdy * self.y * (1 - self.y)\n",
    "    def step(self):\n",
    "        pass"
   ]
  },
  {
   "cell_type": "code",
   "execution_count": 283,
   "id": "81458534",
   "metadata": {},
   "outputs": [],
   "source": [
    "class ReluLayer:\n",
    "    def __init__(self) -> None:\n",
    "        pass\n",
    "    def forward(self,X):\n",
    "        return np.multiply((X>0),X)\n",
    "    def backward(self,dLdy):\n",
    "        return (dLdy>0) * 1\n",
    "    def step(self):\n",
    "        pass"
   ]
  },
  {
   "cell_type": "code",
   "execution_count": 422,
   "id": "51b7ef93-763a-4617-98e4-c2c98e2a12a5",
   "metadata": {},
   "outputs": [],
   "source": [
    "class LinearLayer:\n",
    "    def __init__(self, input_size,output_size,l_r):\n",
    "        self.W = np.random.randn(input_size,output_size)\n",
    "        self.b = np.random.randn(output_size) \n",
    "        self.l_r = l_r\n",
    "        \n",
    "    \n",
    "    def forward(self, X):\n",
    "        self.X = X\n",
    "        #print(X.shape, self.W.shape)\n",
    "        self.Y = X @ self.W + self.b\n",
    "        return self.Y\n",
    "    \n",
    "    def backward(self, dLdy):\n",
    "        dydw = self.W\n",
    "        #X [N,input,1]\n",
    "        #dLdy [N,1,output]\n",
    "        #print('before = ',self.X.shape,dLdy.shape)\n",
    "        self.dLdw = self.X.T @  dLdy # Because it is 3D matrix\n",
    "        #print('after = ',np.expand_dims(self.X, -1).shape,np.expand_dims(dLdy, -2).shape)\n",
    "        #print('dLdw = ',self.dLdw)\n",
    "        #pdb.set_trace()\n",
    "\n",
    "        \n",
    "        self.dLdb = dLdy # as dy/db == 1\n",
    "          \n",
    "        if len(self.dLdw.shape) > 2:\n",
    "                self.dLdw = self.dLdw.sum(axis=0)\n",
    "        if len(self.dLdb) > 1:\n",
    "             self.dLdb = self.dLdb.sum(axis=0)\n",
    "        #pdb.set_trace()\n",
    "        dLdx = dLdy @ self.W.T\n",
    "        #print('dLdx=',dLdx)\n",
    "        return dLdx\n",
    "    def step(self):\n",
    "        self.W -= self.dLdw * self.l_r\n",
    "        self.b -= self.dLdb * self.l_r"
   ]
  },
  {
   "cell_type": "code",
   "execution_count": null,
   "id": "58545528",
   "metadata": {},
   "outputs": [],
   "source": []
  },
  {
   "cell_type": "code",
   "execution_count": 423,
   "id": "a28cf88a",
   "metadata": {},
   "outputs": [
    {
     "data": {
      "text/plain": [
       "array([[ 9.00000001,  9.        ],\n",
       "       [12.29999999, 12.3       ],\n",
       "       [14.7       , 14.7       ]])"
      ]
     },
     "execution_count": 423,
     "metadata": {},
     "output_type": "execute_result"
    }
   ],
   "source": [
    "def check_gradient(f,x,eps = 1e-6):\n",
    "    y = np.ones(x.shape)\n",
    "    for i in range(x.shape[0]):\n",
    "            if (len(x.shape) > 1):\n",
    "                for j in range(x.shape[1]):\n",
    "                    x[i,j] += eps\n",
    "                    f_plus = f(x)\n",
    "                    x[i][j] -= 2 * eps\n",
    "                    f_minus = f(x)\n",
    "                    x[i][j] += eps\n",
    "\n",
    "                    y[i][j] = (f_plus - f_minus) / (2 * eps)\n",
    "            else:\n",
    "                    x[i] += eps\n",
    "                    f_plus = f(x)\n",
    "                    x[i] -= 2 * eps\n",
    "                    f_minus = f(x)\n",
    "                    x[i] += eps\n",
    "\n",
    "                    y[i] = (f_plus - f_minus) / (2 * eps)\n",
    "    return y\n",
    "\n",
    "test_x = np.array([[1.2, 3.4, 5.6],[7.8,8.9,9.1]])\n",
    "linearTest = LinearLayer(3,2,0.1)\n",
    "linearTest.forward(test_x)\n",
    "def f(W,x=test_x):\n",
    "      return linearTest.forward(x).sum()\n",
    "    \n",
    "check_gradient(f, linearTest.W)"
   ]
  },
  {
   "cell_type": "code",
   "execution_count": 424,
   "id": "d406c9b2",
   "metadata": {},
   "outputs": [
    {
     "name": "stdout",
     "output_type": "stream",
     "text": [
      "[ 9.  12.3 14.7]\n"
     ]
    }
   ],
   "source": [
    "\n",
    "linearTest.backward(np.ones(2))\n",
    "print(linearTest.dLdw)"
   ]
  },
  {
   "cell_type": "code",
   "execution_count": 425,
   "id": "ec510ef0",
   "metadata": {},
   "outputs": [],
   "source": [
    "class MSELOSS:\n",
    "    def __init__(self) -> None:\n",
    "        pass\n",
    "    def forward(self,y,y_res):\n",
    "        self.n = y.shape[0]\n",
    "        #print(y.shape,y_res.shape)\n",
    "        self.diff = y_res - y\n",
    "        #print(self.diff.shape)\n",
    "        self.L = (self.diff ** 2).mean()\n",
    "        return self.L\n",
    "    def backward(self):\n",
    "        dLdy =   (-1 / self.n) * (2 * self.diff)\n",
    "        return dLdy\n"
   ]
  },
  {
   "cell_type": "code",
   "execution_count": 426,
   "id": "ed7a7dcc",
   "metadata": {},
   "outputs": [],
   "source": [
    "class R2LOSS:\n",
    "    def __init__(self) -> None:\n",
    "        pass\n",
    "    def forward(self,y,y_res):\n",
    "        self.n = y.shape[0]\n",
    "        self.diff = y - y_res \n",
    "        self.L = 1 - ( y - y_res) ** 2\n",
    "        return self.L\n",
    "    def backward(self):\n",
    "        dLdy =   (1 / self.n) * (2 * self.diff)\n",
    "        return dLdy"
   ]
  },
  {
   "cell_type": "code",
   "execution_count": 427,
   "id": "83f67b24",
   "metadata": {},
   "outputs": [],
   "source": [
    "class MLPRegressor:\n",
    "    def __init__(\n",
    "        self,\n",
    "        hidden_layer_sizes=(100,100),\n",
    "        learning_rate=1e-6,\n",
    "        max_iter=100,\n",
    "        layers = None,\n",
    "        loss = None\n",
    "    ):\n",
    "        self.learning_rate = learning_rate\n",
    "        self.max_iter = max_iter\n",
    "        self.hidden_layer_sizes = hidden_layer_sizes\n",
    "        self.layers = layers\n",
    "        self.loss = loss\n",
    "        if (self.layers == None):\n",
    "            self.layers = []\n",
    "            layer_size = hidden_layer_sizes[1]\n",
    "            for i in range(hidden_layer_sizes[0]): #layersCount\n",
    "                self.layers.append(LinearLayer(layer_size,layer_size,learning_rate))\n",
    "                self.layers.append(ReluLayer())\n",
    "        self.layers.append(LinearLayer(layer_size,1,learning_rate))\n",
    "        if (self.loss == None):\n",
    "            self.loss = MSELOSS()\n",
    "    \n",
    "    def train(self, X, y):\n",
    "        losses = []\n",
    "        saved_X = X.copy()\n",
    "        for i in range(self.max_iter):\n",
    "            X = saved_X\n",
    "            for layer in self.layers:\n",
    "                X = layer.forward(X)\n",
    "                #print(f'X =={X}',X)\n",
    "            print(X.shape)\n",
    "            L = self.loss.forward(X,y) # On last interation the input will be the result\n",
    "            print('L=',L)\n",
    "            losses.append(L)\n",
    "            dLdy = self.loss.backward() \n",
    "            #dLdy = L\n",
    "            #print('shape.loss==',dLdy.shape)\n",
    "            for layer in self.layers[::-1]:\n",
    "                dLdy = layer.backward(dLdy)\n",
    "\n",
    "            for layer in self.layers:\n",
    "                layer.step()\n",
    "        return losses\n",
    "\n",
    "    def predict(self, X):\n",
    "        for layer in self.layers:\n",
    "                X = layer.forward(X)\n",
    "        return X"
   ]
  },
  {
   "cell_type": "code",
   "execution_count": 428,
   "id": "1d3e89ba",
   "metadata": {},
   "outputs": [
    {
     "data": {
      "text/plain": [
       "array([[ 0.002343  ],\n",
       "       [-0.01354242],\n",
       "       [-0.00096807],\n",
       "       [-0.02349054],\n",
       "       [ 0.0046358 ],\n",
       "       [-0.00925049],\n",
       "       [-0.00468343],\n",
       "       [ 0.02369857],\n",
       "       [ 0.00058459],\n",
       "       [-0.0065705 ],\n",
       "       [-0.01471999],\n",
       "       [-0.00094785],\n",
       "       [-0.00016838],\n",
       "       [ 0.0131271 ],\n",
       "       [-0.00028355],\n",
       "       [-0.00247006],\n",
       "       [-0.00068033],\n",
       "       [-0.01645528],\n",
       "       [-0.00901444],\n",
       "       [ 0.01281941],\n",
       "       [-0.01583109],\n",
       "       [ 0.01233067],\n",
       "       [ 0.02299264],\n",
       "       [-0.03223455],\n",
       "       [-0.01088115],\n",
       "       [ 0.00478096],\n",
       "       [-0.00929034],\n",
       "       [-0.01161711],\n",
       "       [ 0.00560049],\n",
       "       [-0.0077819 ],\n",
       "       [ 0.00975118],\n",
       "       [ 0.03823502],\n",
       "       [ 0.02935336],\n",
       "       [-0.00824643],\n",
       "       [ 0.02762957],\n",
       "       [ 0.01978453],\n",
       "       [ 0.0069451 ],\n",
       "       [ 0.00227906],\n",
       "       [ 0.01993671],\n",
       "       [ 0.00057856],\n",
       "       [ 0.00523619],\n",
       "       [ 0.00026061],\n",
       "       [ 0.01173899],\n",
       "       [-0.00215594],\n",
       "       [-0.01706843],\n",
       "       [-0.00050056],\n",
       "       [ 0.00203283],\n",
       "       [ 0.00360328],\n",
       "       [ 0.00600095],\n",
       "       [-0.00957506]])"
      ]
     },
     "execution_count": 428,
     "metadata": {},
     "output_type": "execute_result"
    }
   ],
   "source": [
    "TestMSELOSS = MSELOSS()\n",
    "chosen_size = 50\n",
    "test_y = np.random.rand(chosen_size,1)\n",
    "test_y_res = np.random.rand(chosen_size,1)\n",
    "TestMSELOSS.forward(test_y,test_y_res)\n",
    "def f_loss(W,y=test_y,y_res = test_y_res):\n",
    "      return TestMSELOSS.forward(y,y_res).sum()\n",
    "check_gradient(f_loss, test_y_res)"
   ]
  },
  {
   "cell_type": "code",
   "execution_count": 429,
   "id": "1fc30d02",
   "metadata": {},
   "outputs": [
    {
     "data": {
      "text/plain": [
       "(array([[0.38298861],\n",
       "        [0.3606432 ],\n",
       "        [0.66852968],\n",
       "        [0.67143242],\n",
       "        [0.05828177],\n",
       "        [0.44313149],\n",
       "        [0.91986242],\n",
       "        [0.15438253],\n",
       "        [0.73395582],\n",
       "        [0.83023231],\n",
       "        [0.83373779],\n",
       "        [0.92350144],\n",
       "        [0.81758745],\n",
       "        [0.4353123 ],\n",
       "        [0.77220697],\n",
       "        [0.10137074],\n",
       "        [0.10456944],\n",
       "        [0.49042079],\n",
       "        [0.33429921],\n",
       "        [0.64093321],\n",
       "        [0.45160098],\n",
       "        [0.05988632],\n",
       "        [0.09595586],\n",
       "        [0.92355208],\n",
       "        [0.89438243],\n",
       "        [0.25229855],\n",
       "        [0.94290149],\n",
       "        [0.83141289],\n",
       "        [0.25651717],\n",
       "        [0.66640886],\n",
       "        [0.14204052],\n",
       "        [0.00804892],\n",
       "        [0.18747843],\n",
       "        [0.68346917],\n",
       "        [0.20623538],\n",
       "        [0.32689115],\n",
       "        [0.78856635],\n",
       "        [0.7995998 ],\n",
       "        [0.49931482],\n",
       "        [0.9613896 ],\n",
       "        [0.14674701],\n",
       "        [0.7910321 ],\n",
       "        [0.10779642],\n",
       "        [0.91071988],\n",
       "        [0.85342257],\n",
       "        [0.10781085],\n",
       "        [0.63689846],\n",
       "        [0.41328627],\n",
       "        [0.75008572],\n",
       "        [0.26672886]]),\n",
       " array([[0.4415636 ],\n",
       "        [0.02208276],\n",
       "        [0.64432796],\n",
       "        [0.08416894],\n",
       "        [0.17417672],\n",
       "        [0.21186924],\n",
       "        [0.80277675],\n",
       "        [0.74684676],\n",
       "        [0.74857067],\n",
       "        [0.66596981],\n",
       "        [0.465738  ],\n",
       "        [0.89980517],\n",
       "        [0.81337801],\n",
       "        [0.76348992],\n",
       "        [0.76511826],\n",
       "        [0.03961916],\n",
       "        [0.08756121],\n",
       "        [0.07903888],\n",
       "        [0.10893832],\n",
       "        [0.96141837],\n",
       "        [0.05582368],\n",
       "        [0.36815313],\n",
       "        [0.67077179],\n",
       "        [0.11768826],\n",
       "        [0.62235372],\n",
       "        [0.37182264],\n",
       "        [0.71064311],\n",
       "        [0.5409852 ],\n",
       "        [0.3965294 ],\n",
       "        [0.47186133],\n",
       "        [0.38581992],\n",
       "        [0.9639244 ],\n",
       "        [0.92131243],\n",
       "        [0.4773083 ],\n",
       "        [0.89697471],\n",
       "        [0.82150449],\n",
       "        [0.96219379],\n",
       "        [0.85657635],\n",
       "        [0.99773255],\n",
       "        [0.97585357],\n",
       "        [0.27765185],\n",
       "        [0.79754746],\n",
       "        [0.40127127],\n",
       "        [0.85682142],\n",
       "        [0.42671188],\n",
       "        [0.09529697],\n",
       "        [0.6877191 ],\n",
       "        [0.50336827],\n",
       "        [0.90010958],\n",
       "        [0.0273524 ]]))"
      ]
     },
     "execution_count": 429,
     "metadata": {},
     "output_type": "execute_result"
    }
   ],
   "source": [
    "test_y,test_y_res"
   ]
  },
  {
   "cell_type": "code",
   "execution_count": 430,
   "id": "cc9fa095",
   "metadata": {},
   "outputs": [
    {
     "data": {
      "text/plain": [
       "array([[-0.002343  ],\n",
       "       [ 0.01354242],\n",
       "       [ 0.00096807],\n",
       "       [ 0.02349054],\n",
       "       [-0.0046358 ],\n",
       "       [ 0.00925049],\n",
       "       [ 0.00468343],\n",
       "       [-0.02369857],\n",
       "       [-0.00058459],\n",
       "       [ 0.0065705 ],\n",
       "       [ 0.01471999],\n",
       "       [ 0.00094785],\n",
       "       [ 0.00016838],\n",
       "       [-0.0131271 ],\n",
       "       [ 0.00028355],\n",
       "       [ 0.00247006],\n",
       "       [ 0.00068033],\n",
       "       [ 0.01645528],\n",
       "       [ 0.00901444],\n",
       "       [-0.01281941],\n",
       "       [ 0.01583109],\n",
       "       [-0.01233067],\n",
       "       [-0.02299264],\n",
       "       [ 0.03223455],\n",
       "       [ 0.01088115],\n",
       "       [-0.00478096],\n",
       "       [ 0.00929034],\n",
       "       [ 0.01161711],\n",
       "       [-0.00560049],\n",
       "       [ 0.0077819 ],\n",
       "       [-0.00975118],\n",
       "       [-0.03823502],\n",
       "       [-0.02935336],\n",
       "       [ 0.00824643],\n",
       "       [-0.02762957],\n",
       "       [-0.01978453],\n",
       "       [-0.0069451 ],\n",
       "       [-0.00227906],\n",
       "       [-0.01993671],\n",
       "       [-0.00057856],\n",
       "       [-0.00523619],\n",
       "       [-0.00026061],\n",
       "       [-0.01173899],\n",
       "       [ 0.00215594],\n",
       "       [ 0.01706843],\n",
       "       [ 0.00050056],\n",
       "       [-0.00203283],\n",
       "       [-0.00360328],\n",
       "       [-0.00600095],\n",
       "       [ 0.0095751 ]])"
      ]
     },
     "execution_count": 430,
     "metadata": {},
     "output_type": "execute_result"
    }
   ],
   "source": [
    "TestMSELOSS.backward()"
   ]
  },
  {
   "cell_type": "code",
   "execution_count": 431,
   "id": "0e4d6230-d770-480d-a2d8-8278796fc5b5",
   "metadata": {},
   "outputs": [
    {
     "data": {
      "text/plain": [
       "9"
      ]
     },
     "execution_count": 431,
     "metadata": {},
     "output_type": "execute_result"
    }
   ],
   "source": [
    "len(features)"
   ]
  },
  {
   "cell_type": "markdown",
   "id": "2afb2d95-c521-406d-b601-0baf84cb4a54",
   "metadata": {},
   "source": [
    "# Проверяем модель MLP на выборке Diamonds"
   ]
  },
  {
   "cell_type": "code",
   "execution_count": null,
   "id": "44174c1b",
   "metadata": {},
   "outputs": [],
   "source": [
    "\n"
   ]
  },
  {
   "cell_type": "code",
   "execution_count": 432,
   "id": "f445cb37",
   "metadata": {},
   "outputs": [],
   "source": [
    "mlpRegressorTest = MLPRegressor(hidden_layer_sizes=(1,2))\n",
    "a = np.array([[1.2,3.2],[3.4,5.6]])\n",
    "b = np.array([1.3,2.3]).reshape(-1,1)"
   ]
  },
  {
   "cell_type": "code",
   "execution_count": 433,
   "id": "a4a5c757",
   "metadata": {},
   "outputs": [
    {
     "name": "stdout",
     "output_type": "stream",
     "text": [
      "[[ 0.77734936 -0.16680217]\n",
      " [-0.66380076  0.24566886]]\n"
     ]
    }
   ],
   "source": [
    "print(mlpRegressorTest.layers[0].W)\n",
    "#mlpRegressorTest.layers[0].dLdw"
   ]
  },
  {
   "cell_type": "code",
   "execution_count": 434,
   "id": "fb803b37",
   "metadata": {},
   "outputs": [
    {
     "name": "stdout",
     "output_type": "stream",
     "text": [
      "(2, 1)\n",
      "L= 5.127159916552872\n",
      "(2, 1)\n",
      "L= 5.1269137742299105\n",
      "(2, 1)\n",
      "L= 5.126667640661932\n",
      "(2, 1)\n",
      "L= 5.126421515848462\n",
      "(2, 1)\n",
      "L= 5.12617539978902\n",
      "(2, 1)\n",
      "L= 5.125929292483132\n",
      "(2, 1)\n",
      "L= 5.125683193930321\n",
      "(2, 1)\n",
      "L= 5.125437104130111\n",
      "(2, 1)\n",
      "L= 5.125191023082024\n",
      "(2, 1)\n",
      "L= 5.124944950785587\n",
      "(2, 1)\n",
      "L= 5.124698887240322\n",
      "(2, 1)\n",
      "L= 5.1244528324457495\n",
      "(2, 1)\n",
      "L= 5.124206786401397\n",
      "(2, 1)\n",
      "L= 5.123960749106788\n",
      "(2, 1)\n",
      "L= 5.123714720561443\n",
      "(2, 1)\n",
      "L= 5.12346870076489\n",
      "(2, 1)\n",
      "L= 5.12322268971665\n",
      "(2, 1)\n",
      "L= 5.122976687416248\n",
      "(2, 1)\n",
      "L= 5.1227306938632085\n",
      "(2, 1)\n",
      "L= 5.122484709057055\n",
      "(2, 1)\n",
      "L= 5.122238732997311\n",
      "(2, 1)\n",
      "L= 5.121992765683502\n",
      "(2, 1)\n",
      "L= 5.1217468071151515\n",
      "(2, 1)\n",
      "L= 5.121500857291784\n",
      "(2, 1)\n",
      "L= 5.121254916212924\n",
      "(2, 1)\n",
      "L= 5.1210089838780934\n",
      "(2, 1)\n",
      "L= 5.1207630602868175\n",
      "(2, 1)\n",
      "L= 5.1205171454386225\n",
      "(2, 1)\n",
      "L= 5.120271239333031\n",
      "(2, 1)\n",
      "L= 5.120025341969568\n",
      "(2, 1)\n",
      "L= 5.119779453347759\n",
      "(2, 1)\n",
      "L= 5.119533573467127\n",
      "(2, 1)\n",
      "L= 5.119287702327197\n",
      "(2, 1)\n",
      "L= 5.119041839927494\n",
      "(2, 1)\n",
      "L= 5.118795986267543\n",
      "(2, 1)\n",
      "L= 5.118550141346867\n",
      "(2, 1)\n",
      "L= 5.118304305164991\n",
      "(2, 1)\n",
      "L= 5.118058477721442\n",
      "(2, 1)\n",
      "L= 5.117812659015743\n",
      "(2, 1)\n",
      "L= 5.117566849047419\n",
      "(2, 1)\n",
      "L= 5.117321047815995\n",
      "(2, 1)\n",
      "L= 5.117075255320996\n",
      "(2, 1)\n",
      "L= 5.116829471561948\n",
      "(2, 1)\n",
      "L= 5.116583696538374\n",
      "(2, 1)\n",
      "L= 5.116337930249801\n",
      "(2, 1)\n",
      "L= 5.116092172695754\n",
      "(2, 1)\n",
      "L= 5.115846423875755\n",
      "(2, 1)\n",
      "L= 5.115600683789332\n",
      "(2, 1)\n",
      "L= 5.115354952436011\n",
      "(2, 1)\n",
      "L= 5.115109229815316\n",
      "(2, 1)\n",
      "L= 5.114863515926772\n",
      "(2, 1)\n",
      "L= 5.1146178107699045\n",
      "(2, 1)\n",
      "L= 5.11437211434424\n",
      "(2, 1)\n",
      "L= 5.114126426649303\n",
      "(2, 1)\n",
      "L= 5.113880747684618\n",
      "(2, 1)\n",
      "L= 5.113635077449713\n",
      "(2, 1)\n",
      "L= 5.113389415944111\n",
      "(2, 1)\n",
      "L= 5.113143763167339\n",
      "(2, 1)\n",
      "L= 5.112898119118923\n",
      "(2, 1)\n",
      "L= 5.112652483798388\n",
      "(2, 1)\n",
      "L= 5.11240685720526\n",
      "(2, 1)\n",
      "L= 5.1121612393390645\n",
      "(2, 1)\n",
      "L= 5.111915630199327\n",
      "(2, 1)\n",
      "L= 5.111670029785574\n",
      "(2, 1)\n",
      "L= 5.111424438097331\n",
      "(2, 1)\n",
      "L= 5.111178855134125\n",
      "(2, 1)\n",
      "L= 5.110933280895482\n",
      "(2, 1)\n",
      "L= 5.110687715380925\n",
      "(2, 1)\n",
      "L= 5.110442158589984\n",
      "(2, 1)\n",
      "L= 5.110196610522182\n",
      "(2, 1)\n",
      "L= 5.109951071177047\n",
      "(2, 1)\n",
      "L= 5.1097055405541045\n",
      "(2, 1)\n",
      "L= 5.1094600186528805\n",
      "(2, 1)\n",
      "L= 5.109214505472903\n",
      "(2, 1)\n",
      "L= 5.108969001013698\n",
      "(2, 1)\n",
      "L= 5.108723505274789\n",
      "(2, 1)\n",
      "L= 5.1084780182557035\n",
      "(2, 1)\n",
      "L= 5.10823253995597\n",
      "(2, 1)\n",
      "L= 5.107987070375113\n",
      "(2, 1)\n",
      "L= 5.107741609512661\n",
      "(2, 1)\n",
      "L= 5.107496157368139\n",
      "(2, 1)\n",
      "L= 5.107250713941072\n",
      "(2, 1)\n",
      "L= 5.1070052792309895\n",
      "(2, 1)\n",
      "L= 5.106759853237419\n",
      "(2, 1)\n",
      "L= 5.106514435959884\n",
      "(2, 1)\n",
      "L= 5.106269027397914\n",
      "(2, 1)\n",
      "L= 5.106023627551033\n",
      "(2, 1)\n",
      "L= 5.10577823641877\n",
      "(2, 1)\n",
      "L= 5.105532854000652\n",
      "(2, 1)\n",
      "L= 5.105287480296204\n",
      "(2, 1)\n",
      "L= 5.105042115304956\n",
      "(2, 1)\n",
      "L= 5.104796759026432\n",
      "(2, 1)\n",
      "L= 5.104551411460161\n",
      "(2, 1)\n",
      "L= 5.10430607260567\n",
      "(2, 1)\n",
      "L= 5.104060742462486\n",
      "(2, 1)\n",
      "L= 5.103815421030134\n",
      "(2, 1)\n",
      "L= 5.103570108308144\n",
      "(2, 1)\n",
      "L= 5.103324804296042\n",
      "(2, 1)\n",
      "L= 5.103079508993357\n",
      "(2, 1)\n",
      "L= 5.102834222399614\n"
     ]
    },
    {
     "data": {
      "text/plain": [
       "[5.127159916552872,\n",
       " 5.1269137742299105,\n",
       " 5.126667640661932,\n",
       " 5.126421515848462,\n",
       " 5.12617539978902,\n",
       " 5.125929292483132,\n",
       " 5.125683193930321,\n",
       " 5.125437104130111,\n",
       " 5.125191023082024,\n",
       " 5.124944950785587,\n",
       " 5.124698887240322,\n",
       " 5.1244528324457495,\n",
       " 5.124206786401397,\n",
       " 5.123960749106788,\n",
       " 5.123714720561443,\n",
       " 5.12346870076489,\n",
       " 5.12322268971665,\n",
       " 5.122976687416248,\n",
       " 5.1227306938632085,\n",
       " 5.122484709057055,\n",
       " 5.122238732997311,\n",
       " 5.121992765683502,\n",
       " 5.1217468071151515,\n",
       " 5.121500857291784,\n",
       " 5.121254916212924,\n",
       " 5.1210089838780934,\n",
       " 5.1207630602868175,\n",
       " 5.1205171454386225,\n",
       " 5.120271239333031,\n",
       " 5.120025341969568,\n",
       " 5.119779453347759,\n",
       " 5.119533573467127,\n",
       " 5.119287702327197,\n",
       " 5.119041839927494,\n",
       " 5.118795986267543,\n",
       " 5.118550141346867,\n",
       " 5.118304305164991,\n",
       " 5.118058477721442,\n",
       " 5.117812659015743,\n",
       " 5.117566849047419,\n",
       " 5.117321047815995,\n",
       " 5.117075255320996,\n",
       " 5.116829471561948,\n",
       " 5.116583696538374,\n",
       " 5.116337930249801,\n",
       " 5.116092172695754,\n",
       " 5.115846423875755,\n",
       " 5.115600683789332,\n",
       " 5.115354952436011,\n",
       " 5.115109229815316,\n",
       " 5.114863515926772,\n",
       " 5.1146178107699045,\n",
       " 5.11437211434424,\n",
       " 5.114126426649303,\n",
       " 5.113880747684618,\n",
       " 5.113635077449713,\n",
       " 5.113389415944111,\n",
       " 5.113143763167339,\n",
       " 5.112898119118923,\n",
       " 5.112652483798388,\n",
       " 5.11240685720526,\n",
       " 5.1121612393390645,\n",
       " 5.111915630199327,\n",
       " 5.111670029785574,\n",
       " 5.111424438097331,\n",
       " 5.111178855134125,\n",
       " 5.110933280895482,\n",
       " 5.110687715380925,\n",
       " 5.110442158589984,\n",
       " 5.110196610522182,\n",
       " 5.109951071177047,\n",
       " 5.1097055405541045,\n",
       " 5.1094600186528805,\n",
       " 5.109214505472903,\n",
       " 5.108969001013698,\n",
       " 5.108723505274789,\n",
       " 5.1084780182557035,\n",
       " 5.10823253995597,\n",
       " 5.107987070375113,\n",
       " 5.107741609512661,\n",
       " 5.107496157368139,\n",
       " 5.107250713941072,\n",
       " 5.1070052792309895,\n",
       " 5.106759853237419,\n",
       " 5.106514435959884,\n",
       " 5.106269027397914,\n",
       " 5.106023627551033,\n",
       " 5.10577823641877,\n",
       " 5.105532854000652,\n",
       " 5.105287480296204,\n",
       " 5.105042115304956,\n",
       " 5.104796759026432,\n",
       " 5.104551411460161,\n",
       " 5.10430607260567,\n",
       " 5.104060742462486,\n",
       " 5.103815421030134,\n",
       " 5.103570108308144,\n",
       " 5.103324804296042,\n",
       " 5.103079508993357,\n",
       " 5.102834222399614]"
      ]
     },
     "execution_count": 434,
     "metadata": {},
     "output_type": "execute_result"
    }
   ],
   "source": [
    "mlpRegressorTest.train(a,b)\n"
   ]
  },
  {
   "cell_type": "code",
   "execution_count": null,
   "id": "e3e5342c",
   "metadata": {},
   "outputs": [],
   "source": []
  },
  {
   "cell_type": "code",
   "execution_count": 444,
   "id": "20ad08b9",
   "metadata": {},
   "outputs": [],
   "source": [
    "mlpRegressor = MLPRegressor(hidden_layer_sizes=(30,len(features)),learning_rate=1e-3,max_iter=100)"
   ]
  },
  {
   "cell_type": "code",
   "execution_count": 445,
   "id": "a0b622a5",
   "metadata": {},
   "outputs": [
    {
     "name": "stdout",
     "output_type": "stream",
     "text": [
      "[[0.05197505 0.75       0.83333333 ... 0.45623836 0.08285229 0.09685535]\n",
      " [0.31185031 1.         0.33333333 ... 0.7122905  0.12852292 0.14937107]\n",
      " [0.07068607 1.         0.16666667 ... 0.49068901 0.08981324 0.10062893]\n",
      " ...\n",
      " [0.07276507 0.5        0.33333333 ... 0.49255121 0.09032258 0.10125786]\n",
      " [0.07068607 1.         0.33333333 ... 0.49068901 0.08913413 0.10125786]\n",
      " [0.03950104 0.75       0.5        ... 0.44134078 0.07962649 0.09025157]]\n"
     ]
    }
   ],
   "source": [
    "print(X_train)"
   ]
  },
  {
   "cell_type": "code",
   "execution_count": 446,
   "id": "1e7ee858",
   "metadata": {},
   "outputs": [
    {
     "name": "stdout",
     "output_type": "stream",
     "text": [
      "(37758, 1)\n",
      "L= 3.0470482071006923e+49\n",
      "(37758, 1)\n",
      "L= 1.457094638472426e+43\n",
      "(37758, 1)\n",
      "L= 1.4512720882970903e+43\n",
      "(37758, 1)\n",
      "L= 1.4454728050322548e+43\n",
      "(37758, 1)\n",
      "L= 1.4396966957033456e+43\n",
      "(37758, 1)\n",
      "L= 1.433943667707315e+43\n",
      "(37758, 1)\n",
      "L= 1.4282136288111565e+43\n",
      "(37758, 1)\n",
      "L= 1.4225064871504275e+43\n",
      "(37758, 1)\n",
      "L= 1.416822151227774e+43\n",
      "(37758, 1)\n",
      "L= 1.4111605299114686e+43\n",
      "(37758, 1)\n",
      "L= 1.4055215324339414e+43\n",
      "(37758, 1)\n",
      "L= 1.3999050683903354e+43\n",
      "(37758, 1)\n",
      "L= 1.394311047737048e+43\n",
      "(37758, 1)\n",
      "L= 1.3887393807902911e+43\n",
      "(37758, 1)\n",
      "L= 1.3831899782246528e+43\n",
      "(37758, 1)\n",
      "L= 1.377662751071667e+43\n",
      "(37758, 1)\n",
      "L= 1.372157610718385e+43\n",
      "(37758, 1)\n",
      "L= 1.3666744689059538e+43\n",
      "(37758, 1)\n",
      "L= 1.3612132377282057e+43\n",
      "(37758, 1)\n",
      "L= 1.3557738296302437e+43\n",
      "(37758, 1)\n",
      "L= 1.350356157407041e+43\n",
      "(37758, 1)\n",
      "L= 1.3449601342020426e+43\n",
      "(37758, 1)\n",
      "L= 1.339585673505772e+43\n",
      "(37758, 1)\n",
      "L= 1.334232689154442e+43\n",
      "(37758, 1)\n",
      "L= 1.3289010953285814e+43\n",
      "(37758, 1)\n",
      "L= 1.3235908065516485e+43\n",
      "(37758, 1)\n",
      "L= 1.318301737688668e+43\n",
      "(37758, 1)\n",
      "L= 1.313033803944864e+43\n",
      "(37758, 1)\n",
      "L= 1.3077869208643e+43\n",
      "(37758, 1)\n",
      "L= 1.3025610043285264e+43\n",
      "(37758, 1)\n",
      "L= 1.2973559705552297e+43\n",
      "(37758, 1)\n",
      "L= 1.292171736096891e+43\n",
      "(37758, 1)\n",
      "L= 1.2870082178394476e+43\n",
      "(37758, 1)\n",
      "L= 1.2818653330009613e+43\n",
      "(37758, 1)\n",
      "L= 1.2767429991302891e+43\n",
      "(37758, 1)\n",
      "L= 1.271641134105764e+43\n",
      "(37758, 1)\n",
      "L= 1.266559656133878e+43\n",
      "(37758, 1)\n",
      "L= 1.2614984837479667e+43\n",
      "(37758, 1)\n",
      "L= 1.2564575358069104e+43\n",
      "(37758, 1)\n",
      "L= 1.2514367314938256e+43\n",
      "(37758, 1)\n",
      "L= 1.2464359903147762e+43\n",
      "(37758, 1)\n",
      "L= 1.2414552320974784e+43\n",
      "(37758, 1)\n",
      "L= 1.2364943769900169e+43\n",
      "(37758, 1)\n",
      "L= 1.2315533454595652e+43\n",
      "(37758, 1)\n",
      "L= 1.226632058291109e+43\n",
      "(37758, 1)\n",
      "L= 1.2217304365861776e+43\n",
      "(37758, 1)\n",
      "L= 1.2168484017615792e+43\n",
      "(37758, 1)\n",
      "L= 1.2119858755481396e+43\n",
      "(37758, 1)\n",
      "L= 1.2071427799894494e+43\n",
      "(37758, 1)\n",
      "L= 1.2023190374406113e+43\n",
      "(37758, 1)\n",
      "L= 1.197514570566999e+43\n",
      "(37758, 1)\n",
      "L= 1.1927293023430126e+43\n",
      "(37758, 1)\n",
      "L= 1.1879631560508504e+43\n",
      "(37758, 1)\n",
      "L= 1.183216055279271e+43\n",
      "(37758, 1)\n",
      "L= 1.1784879239223751e+43\n",
      "(37758, 1)\n",
      "L= 1.173778686178381e+43\n",
      "(37758, 1)\n",
      "L= 1.1690882665484122e+43\n",
      "(37758, 1)\n",
      "L= 1.164416589835285e+43\n",
      "(37758, 1)\n",
      "L= 1.159763581142303e+43\n",
      "(37758, 1)\n",
      "L= 1.1551291658720588e+43\n",
      "(37758, 1)\n",
      "L= 1.150513269725234e+43\n",
      "(37758, 1)\n",
      "L= 1.145915818699412e+43\n",
      "(37758, 1)\n",
      "L= 1.141336739087889e+43\n",
      "(37758, 1)\n",
      "L= 1.1367759574784937e+43\n",
      "(37758, 1)\n",
      "L= 1.13223340075241e+43\n",
      "(37758, 1)\n",
      "L= 1.1277089960830028e+43\n",
      "(37758, 1)\n",
      "L= 1.1232026709346554e+43\n",
      "(37758, 1)\n",
      "L= 1.1187143530616004e+43\n",
      "(37758, 1)\n",
      "L= 1.1142439705067662e+43\n",
      "(37758, 1)\n",
      "L= 1.1097914516006209e+43\n",
      "(37758, 1)\n",
      "L= 1.105356724960025e+43\n",
      "(37758, 1)\n",
      "L= 1.1009397194870849e+43\n"
     ]
    },
    {
     "ename": "KeyboardInterrupt",
     "evalue": "",
     "output_type": "error",
     "traceback": [
      "\u001b[0;31m---------------------------------------------------------------------------\u001b[0m",
      "\u001b[0;31mKeyboardInterrupt\u001b[0m                         Traceback (most recent call last)",
      "\u001b[1;32m/home/andrew/tech/dl-course/2023_spring/lecture1/homework/lecture1_hw.ipynb Cell 43\u001b[0m line \u001b[0;36m1\n\u001b[0;32m----> <a href='vscode-notebook-cell://wsl%2Bubuntu-20.04/home/andrew/tech/dl-course/2023_spring/lecture1/homework/lecture1_hw.ipynb#X56sdnNjb2RlLXJlbW90ZQ%3D%3D?line=0'>1</a>\u001b[0m losses_mlp \u001b[39m=\u001b[39m mlpRegressor\u001b[39m.\u001b[39;49mtrain(X_train,y_train)\n",
      "\u001b[1;32m/home/andrew/tech/dl-course/2023_spring/lecture1/homework/lecture1_hw.ipynb Cell 43\u001b[0m line \u001b[0;36m4\n\u001b[1;32m     <a href='vscode-notebook-cell://wsl%2Bubuntu-20.04/home/andrew/tech/dl-course/2023_spring/lecture1/homework/lecture1_hw.ipynb#X56sdnNjb2RlLXJlbW90ZQ%3D%3D?line=37'>38</a>\u001b[0m \u001b[39m#dLdy = L\u001b[39;00m\n\u001b[1;32m     <a href='vscode-notebook-cell://wsl%2Bubuntu-20.04/home/andrew/tech/dl-course/2023_spring/lecture1/homework/lecture1_hw.ipynb#X56sdnNjb2RlLXJlbW90ZQ%3D%3D?line=38'>39</a>\u001b[0m \u001b[39m#print('shape.loss==',dLdy.shape)\u001b[39;00m\n\u001b[1;32m     <a href='vscode-notebook-cell://wsl%2Bubuntu-20.04/home/andrew/tech/dl-course/2023_spring/lecture1/homework/lecture1_hw.ipynb#X56sdnNjb2RlLXJlbW90ZQ%3D%3D?line=39'>40</a>\u001b[0m \u001b[39mfor\u001b[39;00m layer \u001b[39min\u001b[39;00m \u001b[39mself\u001b[39m\u001b[39m.\u001b[39mlayers[::\u001b[39m-\u001b[39m\u001b[39m1\u001b[39m]:\n\u001b[0;32m---> <a href='vscode-notebook-cell://wsl%2Bubuntu-20.04/home/andrew/tech/dl-course/2023_spring/lecture1/homework/lecture1_hw.ipynb#X56sdnNjb2RlLXJlbW90ZQ%3D%3D?line=40'>41</a>\u001b[0m     dLdy \u001b[39m=\u001b[39m layer\u001b[39m.\u001b[39;49mbackward(dLdy)\n\u001b[1;32m     <a href='vscode-notebook-cell://wsl%2Bubuntu-20.04/home/andrew/tech/dl-course/2023_spring/lecture1/homework/lecture1_hw.ipynb#X56sdnNjb2RlLXJlbW90ZQ%3D%3D?line=42'>43</a>\u001b[0m \u001b[39mfor\u001b[39;00m layer \u001b[39min\u001b[39;00m \u001b[39mself\u001b[39m\u001b[39m.\u001b[39mlayers:\n\u001b[1;32m     <a href='vscode-notebook-cell://wsl%2Bubuntu-20.04/home/andrew/tech/dl-course/2023_spring/lecture1/homework/lecture1_hw.ipynb#X56sdnNjb2RlLXJlbW90ZQ%3D%3D?line=43'>44</a>\u001b[0m     layer\u001b[39m.\u001b[39mstep()\n",
      "\u001b[0;31mKeyboardInterrupt\u001b[0m: "
     ]
    }
   ],
   "source": [
    "losses_mlp = mlpRegressor.train(X_train,y_train)"
   ]
  },
  {
   "cell_type": "code",
   "execution_count": null,
   "id": "0e63c5f4",
   "metadata": {},
   "outputs": [],
   "source": [
    "y_pred_mlp = mlpRegressor.predict(X_test)\n"
   ]
  },
  {
   "cell_type": "code",
   "execution_count": null,
   "id": "b167fe36",
   "metadata": {},
   "outputs": [],
   "source": [
    "score_mlp = r2_score(y_pred_mlp, y_test)"
   ]
  },
  {
   "cell_type": "code",
   "execution_count": null,
   "id": "948b3033",
   "metadata": {},
   "outputs": [
    {
     "name": "stdout",
     "output_type": "stream",
     "text": [
      "[[3415.45671815]\n",
      " [3415.45671815]\n",
      " [3415.45671815]\n",
      " ...\n",
      " [3415.45671815]\n",
      " [3415.45671815]\n",
      " [3415.45671815]]\n"
     ]
    }
   ],
   "source": [
    "print(y_pred_mlp)"
   ]
  },
  {
   "cell_type": "code",
   "execution_count": null,
   "id": "7b221c09",
   "metadata": {},
   "outputs": [
    {
     "data": {
      "image/png": "[encoded data removed]",
      "text/plain": [
       "<Figure size 640x480 with 1 Axes>"
      ]
     },
     "metadata": {},
     "output_type": "display_data"
    }
   ],
   "source": [
    "plt.title(f'R2: {str(score_mlp)[:5]}')\n",
    "plt.hist(y_pred.reshape(1, -1)[0], bins=100, label='PREDICTION')\n",
    "plt.hist(y_test.reshape(1, -1)[0], bins=100, label='GT')\n",
    "plt.legend()\n",
    "plt.grid()"
   ]
  },
  {
   "cell_type": "code",
   "execution_count": null,
   "id": "cb172c86",
   "metadata": {},
   "outputs": [
    {
     "data": {
      "image/png": "[encoded data removed]",
      "text/plain": [
       "<Figure size 640x480 with 1 Axes>"
      ]
     },
     "metadata": {},
     "output_type": "display_data"
    }
   ],
   "source": [
    "plt.plot(losses_mlp)\n",
    "plt.show()"
   ]
  },
  {
   "cell_type": "code",
   "execution_count": null,
   "id": "7d9fa4db",
   "metadata": {},
   "outputs": [
    {
     "name": "stdout",
     "output_type": "stream",
     "text": [
      "[31498423.305514377, 31258841.611742955, 31022858.62002241, 30790357.17350907, 30561285.50747575, 30335592.62708254, 30113228.29592624, 29894143.024760112, 29678288.060381386, 29465615.374684095, 29261238.996930566, 29088042.98356787, 28977264.876959532, 29021604.74019376, 29083458.0202645, 29140127.26480702, 29197787.332951307, 29226120.858761538, 29259745.77042942, 29282488.58503225, 29308484.461833566, 29336169.828587513, 29354800.93964579, 29354288.2547233, 29354370.836093612, 29354785.880505946, 29363866.114627276, 29372806.317294527, 29376242.671902016, 29378855.719531264, 29376290.58945997, 29372565.804474365, 29367364.90921088, 29360229.133370664, 29350830.367704242, 29338666.580510296, 29320530.589195516, 29299438.187564764, 29272861.805108607, 29243353.378206495, 29209200.03643737, 29171105.59012282, 29132121.151022423, 29090290.206667703, 29046365.807574123, 29000728.862501826, 28954066.085348558, 28906334.290759876, 28856280.387621682, 28805299.7983847, 28754101.546921887, 28703120.9770266, 28652242.573230438, 28601454.687407956, 28550830.357857034, 28500374.666249134, 28450117.181197505, 28400060.525056154, 28350203.895312734, 28300546.492661778, 28251087.520991806, 28201826.187372632, 28152761.7020426, 28103893.278395943, 28055220.13297019, 28006741.485433545, 27958456.558572464, 27910364.57827912, 27862464.77353902, 27814756.37641867, 27767238.622053202, 27719910.748634193, 27672771.99739736, 27625821.612610467, 27579058.841561183, 27532482.934545014, 27486093.144853283, 27439888.72876116, 27393868.94551574, 27348033.057324167, 27302380.329341806, 27256910.029660467, 27211621.42929665, 27166513.802179888, 27121586.42514109, 27076838.57790093, 27032269.543058354, 26987878.606078997, 26943665.055283815, 26899628.18183761, 26855767.279737692, 26812081.645802572, 26768570.57966065, 26725233.383739036, 26682069.363252323, 26639077.826191477, 26596258.083312728, 26553609.448126514, 26511131.236886516, 26468822.768578626, 26426683.36491009, 26384712.350298617, 26342909.051861536, 26301272.79940501, 26259802.925413292, 26218498.765038047, 26177359.65608767, 26136384.939016648, 26095573.956915047, 26054926.055497926, 26014440.583094865, 25974116.89063952, 25933954.331659235, 25893952.26226464, 25854110.04113933, 25814427.02952965, 25774902.59123436, 25735536.092594493, 25696326.9024832, 25657274.392295584, 25618377.935938675, 25579636.90982138, 25541050.692844436, 25502618.666390542, 25464340.214314353, 25426214.722932663, 25388241.581014533, 25350420.179771505, 25312749.91284785, 25275230.176310815, 25237860.36864099, 25200639.89072261, 25163568.145833988, 25126644.539637942, 25089868.48017226, 25053239.377840202, 25016756.64540106, 24980419.697960753, 24944227.952962402, 24908180.83017708, 24872277.751694396, 24836518.141913336, 24800901.42753296, 24765427.037543245, 24730094.403215926, 24694902.958095387, 24659852.137989547, 24624941.380960852, 24590170.127317242, 24555537.819603186, 24521043.902590763, 24486687.82327072, 24452469.030843638, 24418386.976711094, 24384441.114466865, 24350630.89988817, 24316955.790926922, 24283415.24770109, 24250008.73248598, 24216735.709705677, 24183595.645924404, 24150588.009838, 24117712.272265393, 24084967.90614013, 24052354.3865019, 24019871.190488145, 23987517.79732567, 23955293.688322265, 23923198.346858434, 23891231.258379098, 23859391.910385326, 23827679.792426135, 23796094.39609031, 23764635.214998245, 23733301.744793817, 23702093.48313633, 23671009.929692425, 23640050.586128082, 23609214.956100624, 23578502.545250755, 23547912.86119464, 23517445.41351601, 23487099.713758316, 23456875.275416844, 23426771.613930985, 23396788.24667643, 23366924.69295742, 23337180.47399907, 23307555.11293968, 23278048.13482308, 23248659.06659103, 23219387.437075645, 23190232.7769918, 23161194.61892965, 23132272.497347116, 23103465.948562425, 23074774.51074668, 23046197.723916445, 23017735.129926387, 22989386.272461906, 22961150.69703186, 22933027.95096123, 22905017.583383895, 22877119.145235404, 22849332.18924575, 22821656.269932233, 22794090.94359229, 22766635.768296406, 22739290.303881, 22712054.1119414, 22684926.75582479, 22657907.80062323, 22630996.813166644, 22604193.362015937, 22577497.01745603, 22550907.35148899, 22524423.937827144, 22498046.351886295, 22471774.17077887, 22445606.973307148, 22419544.339956515, 22393585.85288876, 22367731.09593533, 22341979.654590674, 22316331.116005637, 22290785.06898079, 22265341.10395985, 22239998.81302314, 22214757.789881002, 22189617.629867345, 22164577.92993311, 22139638.288639802, 22114798.30615311, 22090057.58423643, 22065415.72624453, 22040872.337117165, 22016427.02337275, 21992079.39310206, 21967829.055961937, 21943675.623169024, 21919618.707493547, 21895657.923253115, 21871792.886306506, 21848023.21404753, 21824348.525398906, 21800768.44080612, 21777282.582231365, 21753890.57314748, 21730592.038531892, 21707386.604860626, 21684273.900102314, 21661253.55371221, 21638325.196626294, 21615488.461255275, 21592742.981478814, 21570088.392639533, 21547524.33153725, 21525050.436423134, 21502666.3469939, 21480371.704386014, 21458166.15117, 21436049.331344638, 21414020.890331294, 21392080.474968236, 21370227.73350497, 21348462.315596595, 21326783.872298177, 21305192.05605919, 21283686.520717878, 21262266.921495806, 21240932.91499221, 21219684.15917861, 21198520.313393243, 21177441.038335633, 21156445.996061154, 21135534.8499756, 21114707.264829807, 21093962.906714257, 21073301.443053737, 21052722.542602006, 21032225.87543647, 21011811.112952936, 20991477.92786029, 20971225.994175266, 20951054.987217247, 20930964.583603043, 20910954.461241674, 20891024.299329262, 20871173.77834385, 20851402.580040295, 20831710.387445167, 20812096.884851642, 20792561.757814486, 20773104.693144966, 20753725.37890587, 20734423.50440647, 20715198.76019756, 20696050.838066526, 20676979.431032322, 20657984.233340625, 20639064.940458905, 20620221.249071542, 20601452.857074957, 20582759.4635728, 20564140.768871073, 20545596.474473372, 20527126.283076078, 20508729.898563616, 20490407.026003666, 20472157.371642463, 20453980.642900094, 20435876.54836577, 20417844.79779321, 20399885.102095935, 20381997.173342668, 20364180.724752698, 20346435.4706913, 20328761.126665123, 20311157.40931768, 20293624.036424756, 20276160.72688991, 20258767.200739965, 20241443.17912052, 20224188.38429146, 20207002.539622545, 20189885.369588923, 20172836.59976675, 20155855.95682879, 20138943.168540016, 20122097.963753235, 20105320.072404787, 20088609.225510165, 20071965.15515973, 20055387.59451443, 20038876.277801458, 20022430.94031007, 20006051.318387304, 19989737.149433736, 19973488.171899304, 19957304.125279106, 19941184.750109196, 19925129.787962474, 19909138.98144448, 19893212.074189335, 19877348.810855586, 19861548.937122114, 19845812.199684087, 19830138.346248858, 19814527.125531957, 19798978.287253037, 19783491.58213188, 19768066.76188439, 19752703.57921861, 19737401.787830763, 19722161.142401304, 19706981.39859097, 19691862.313036915, 19676803.643348727, 19661805.148104616, 19646866.586847495, 19631987.72008116, 19617168.309266422, 19602408.11681731, 19587706.906097215, 19573064.44141516, 19558480.488021974, 19543954.812106546, 19529487.180792075, 19515077.36213234, 19500725.12510797, 19486430.239622746, 19472192.476499923, 19458011.607478537, 19443887.40520976, 19429819.643253252, 19415808.096073523, 19401852.539036322, 19387952.74840504, 19374108.501337122, 19360319.575880487, 19346585.75096998, 19332906.806423813, 19319282.52294005, 19305712.68209309, 19292197.066330157, 19278735.458967816, 19265327.644188486, 19251973.407037012, 19238672.533417203, 19225424.810088374, 19212230.02466197, 19199087.965598132, 19185998.422202315, 19172961.184621893, 19159976.043842856, 19147042.791686367, 19134161.220805507, 19121331.12468187, 19108552.29762235, 19095824.534755755, 19083147.632029586, 19070521.3862067, 19057945.594862133, 19045420.056379765, 19032944.56994918, 19020518.935562376, 19008142.95401058, 18995816.42688106, 18983539.156553958, 18971310.946199074, 18959131.59977277, 18947000.922014784, 18934918.71844513, 18922884.795360927, 18910898.959833376, 18898961.019704588, 18887070.783584557, 18875228.060848065, 18863432.661631625, 18851684.396830447, 18839983.078095425, 18828328.517830066, 18816720.529187527, 18805158.926067602, 18793643.523113746, 18782174.13571009, 18770750.5799785, 18759372.672775615, 18748040.23168991, 18736753.075038787, 18725511.021865644, 18714313.891936976, 18703161.505739503, 18692053.684477273, 18680990.250068814, 18669971.025144245, 18658995.83304248, 18648064.49780835, 18637176.844189823, 18626332.69763515, 18615531.884290107, 18604774.230995193, 18594059.565282848, 18583387.715374682, 18572758.510178756, 18562171.779286787, 18551627.35297147, 18541125.062183704, 18530664.73854992, 18520246.214369386, 18509869.322611474, 18499533.89691303, 18489239.771575674, 18478986.781563163, 18468774.762498748, 18458603.550662514, 18448472.982988775, 18438382.89706346, 18428333.131121505, 18418323.524044253, 18408353.915356874, 18398424.14522582, 18388534.054456208, 18378683.48448931, 18368872.277400002, 18359100.275894217, 18349367.323306452, 18339673.263597228, 18330017.941350605, 18320401.201771677, 18310822.890684105, 18301282.85452764, 18291780.94035566, 18282316.995832708, 18272890.869232062, 18263502.409433324, 18254151.465919938, 18244837.88877683, 18235561.52868798, 18226322.23693406, 18217119.865389977, 18207954.266522586, 18198825.29338827, 18189732.7996306, 18180676.639477983, 18171656.667741343, 18162672.73981176, 18153724.71165818, 18144812.439825106, 18135935.781430267, 18127094.594162382, 18118288.736278817, 18109518.06660336, 18100782.44452392, 18092081.72999031, 18083415.783511978, 18074784.466155775, 18066187.639543723, 18057625.165850814, 18049096.90780278, 18040602.728673913, 18032142.49228484, 18023716.063000377, 18015323.305727337, 18006964.085912365, 17998638.26953976, 17990345.723129388, 17982086.313734476, 17973859.9089395, 17965666.376858085, 17957505.58613087, 17949377.4059234, 17941281.705924038, 17933218.356341876, 17925187.227904644, 17917188.19185664, 17909221.1199567, 17901285.88447606, 17893382.3581964, 17885510.414407756, 17877669.92690649, 17869860.76999328, 17862082.818471096, 17854335.947643198, 17846620.03331112, 17838934.95177272, 17831280.57982014, 17823656.79473789, 17816063.474300828, 17808500.49677223, 17800967.740901835, 17793465.0859239, 17785992.411555257, 17778549.597993396, 17771136.52591452, 17763753.07647167, 17756399.1312928, 17749074.572478864, 17741779.282601956, 17734513.144703384, 17727276.042291854, 17720067.85934157, 17712888.480290346, 17705737.790037815, 17698615.67394353, 17691522.017825164, 17684456.707956646, 17677419.631066356, 17670410.674335323, 17663429.72539539, 17656476.672327425, 17649551.403659504, 17642653.808365192, 17635783.775861673, 17628941.19600804, 17622125.9591035, 17615337.95588563, 17608577.07752862, 17601843.215641525, 17595136.26226653, 17588456.109877225, 17581802.651376862, 17575175.780096672, 17568575.38979411, 17562001.3746512, 17555453.629272804, 17548932.048684943, 17542436.528333105, 17535966.96408059, 17529523.252206836, 17523105.28940573, 17516712.97278397, 17510346.199859437, 17504004.868559506, 17497688.877219446, 17491398.124580786, 17485132.50978967, 17478891.932395265, 17472676.292348117, 17466485.48999861, 17460319.426095277, 17454178.00178331, 17448061.118602894, 17441968.678487666, 17435900.583763137, 17429856.737145126, 17423837.041738205, 17417841.401034128, 17411869.718910303, 17405921.899628248, 17399997.847832043, 17394097.468546815, 17388220.667177208, 17382367.349505875, 17376537.42169196, 17370730.79026959, 17364947.362146378, 17359187.044601955, 17353449.74528643, 17347735.37221897, 17342043.833786298, 17336375.038741194, 17330728.896201093, 17325105.31564658, 17319504.20691997, 17313925.480223827, 17308369.046119563, 17302834.81552598, 17297322.699717842, 17291832.61032448, 17286364.45932833, 17280918.159063563, 17275493.622214656, 17270090.761814993, 17264709.491245486, 17259349.72423318, 17254011.374849856, 17248694.35751066, 17243398.586972762, 17238123.978333928, 17232870.447031207, 17227637.908839583, 17222426.27987057, 17217235.47657091, 17212065.415721245, 17206916.014434732, 17201787.19015576, 17196678.860658605, 17191590.944046125, 17186523.35874842, 17181476.023521572, 17176448.857446287, 17171441.779926643, 17166454.710688762, 17161487.56977956, 17156540.277565435, 17151612.754730985, 17146704.92227779, 17141816.701523077, 17136948.0140985, 17132098.781948876, 17127268.927330915, 17122458.372812007, 17117667.04126896, 17112894.85588676, 17108141.74015734, 17103407.61787838, 17098692.413152047, 17093996.050383803, 17089318.454281174, 17084659.54985258, 17080019.262406074, 17075397.517548215, 17070794.241182797, 17066209.359509736, 17061642.799023848, 17057094.486513652, 17052564.349060256, 17048052.314036116, 17043558.30910394, 17039082.262215465, 17034624.101610366, 17030183.75581504, 17025761.153641507, 17021356.22418627, 17016968.89682913, 17012599.101232108, 17008246.76733829, 17003911.825370718, 16999594.205831245, 16995293.83949945, 16991010.657431524, 16986744.590959135, 16982495.571688373, 16978263.53149861, 16974048.402541455, 16969850.117239606, 16965668.608285826, 16961503.80864182, 16957355.6515372, 16953224.070468366, 16949108.99919748, 16945010.371751398, 16940928.122420587, 16936862.185758103, 16932812.496578526, 16928778.989956904, 16924761.60122775, 16920760.265983947, 16916774.920075785, 16912805.499609873, 16908851.94094814, 16904914.180706818, 16900992.155755423, 16897085.80321573, 16893195.06046079, 16889319.865113903, 16885460.155047614, 16881615.86838275, 16877786.943487402, 16873973.318975933, 16870174.93370802, 16866391.726787623, 16862623.637562096, 16858870.605621107, 16855132.570795752, 16851409.47315756, 16847701.25301753, 16844007.850925177, 16840329.207667593, 16836665.264268465, 16833015.961987153, 16829381.242317762, 16825761.04698817, 16822155.317959115, 16818563.997423254, 16814987.027804267, 16811424.35175587, 16807875.912160955, 16804341.65213067, 16800821.51500347, 16797315.44434422, 16793823.383943334, 16790345.2778158, 16786881.07020036, 16783430.705558553, 16779994.12857385, 16776571.284150768, 16773162.117414014, 16769766.573707538, 16766384.598593714, 16763016.137852442, 16759661.13748029, 16756319.543689627, 16752991.302907752, 16749676.361776039, 16746374.66714909, 16743086.166093873, 16739810.805888873, 16736548.534023248, 16733299.298196003, 16730063.046315115, 16726839.72649675, 16723629.287064381, 16720431.67654798, 16717246.8436832, 16714074.737410547, 16710915.30687457, 16707768.501423005, 16704634.27060603, 16701512.564175393, 16698403.332083656, 16695306.52448336, 16692222.091726238, 16689149.984362405, 16686090.153139602, 16683042.549002362, 16680007.12309126, 16676983.8267421, 16673972.611485144, 16670973.42904436, 16667986.231336607, 16665010.970470898, 16662047.5987476, 16659096.068657719, 16656156.332882067, 16653228.34429058, 16650312.055941503, 16647407.42108067, 16644514.393140739, 16641632.92574046, 16638762.972683908, 16635904.487959774, 16633057.425740592, 16630221.740382044, 16627397.386422183, 16624584.318580752, 16621782.491758412, 16618991.861036053, 16616212.381674062, 16613444.009111602, 16610686.698965903, 16607940.407031544, 16605205.089279752, 16602480.701857701, 16599767.201087786, 16597064.54346695, 16594372.685665965, 16591691.584528752, 16589021.197071679, 16586361.480482895, 16583712.39212159, 16581073.889517384, 16578445.930369578, 16575828.472546533, 16573221.474084944, 16570624.89318921, 16568038.688230738, 16565462.817747274, 16562897.240442267, 16560341.915184164, 16557796.801005796, 16555261.857103687, 16552737.042837407, 16550222.317728944, 16547717.641462006, 16545222.973881435, 16542738.27499251, 16540263.504960349, 16537798.624109237, 16535343.592922002, 16532898.372039396, 16530462.922259439, 16528037.204536797, 16525621.179982174, 16523214.809861677, 16520818.055596177, 16518430.878760722, 16516053.241083905, 16513685.104447244, 16511326.430884577, 16508977.182581473, 16506637.321874585, 16504306.811251085, 16501985.613348033, 16499673.690951806, 16497371.00699747, 16495077.524568217, 16492793.206894752, 16490518.01735471, 16488251.919472067, 16485994.876916567, 16483746.853503117, 16481507.813191228, 16479277.720084423, 16477056.538429674, 16474844.232616816, 16472640.767177993, 16470446.106787056, 16468260.216259046, 16466083.060549581, 16463914.604754329, 16461754.814108443, 16459603.653985973, 16457461.089899357, 16455327.087498829, 16453201.612571891, 16451084.631042762, 16448976.108971827, 16446876.012555083, 16444784.308123622, 16442700.962143067, 16440625.94121305, 16438559.212066675, 16436500.741569964, 16434450.496721359, 16432408.444651172, 16430374.55262105, 16428348.788023487, 16426331.118381253, 16424321.511346914, 16422319.934702279, 16420326.356357915, 16418340.744352616, 16416363.066852894, 16414393.292152463, 16412431.388671726, 16410477.324957302, 16408531.06968148, 16406592.591641748, 16404661.859760253, 16402738.843083363, 16400823.510781106, 16398915.832146734, 16397015.776596189, 16395123.313667618, 16393238.413020909, 16391361.044437185, 16389491.177818323, 16387628.78318647, 16385773.830683565, 16383926.290570863, 16382086.133228453, 16380253.32915478, 16378427.848966187, 16376609.663396426, 16374798.7432962, 16372995.0596327, 16371198.583489114, 16369409.286064202, 16367627.1386718, 16365852.112740375, 16364084.179812571, 16362323.311544752, 16360569.479706526, 16358822.65618033, 16357082.812960943, 16355349.922155056, 16353623.955980834, 16351904.886767441, 16350192.68695463, 16348487.329092268, 16346788.785839925, 16345097.02996642, 16343412.03434938, 16341733.771974828, 16340062.215936722, 16338397.339436548, 16336739.11578287, 16335087.518390913, 16333442.52078213, 16331804.096583791, 16330172.21952855, 16328546.863454025, 16326928.002302373, 16325315.610119881, 16323709.661056554, 16322110.129365677, 16320516.989403445, 16318930.215628494, 16317349.78260155, 16315775.66498498, 16314207.837542413, 16312646.275138306, 16311090.952737559, 16309541.845405126, 16307998.928305602, 16306462.176702797, 16304931.5659594, 16303407.07153654, 16301888.668993387, 16300376.333986796, 16298870.042270891, 16297369.769696686, 16295875.492211688, 16294387.185859518, 16292904.826779537, 16291428.391206436, 16289957.85546988, 16288493.195994131, 16287034.389297647, 16285581.411992723, 16284134.24078511, 16282692.85247364, 16281257.223949863, 16279827.332197666, 16278403.154292919, 16276984.667403068, 16275571.848786838, 16274164.675793793, 16272763.125864029, 16271367.176527783, 16269976.80540509, 16268591.990205402, 16267212.708727244, 16265838.938857881, 16264470.658572914, 16263107.84593597, 16261750.479098318, 16260398.536298547, 16259051.995862208, 16257710.836201452, 16256375.035814699, 16255044.573286291, 16253719.427286146, 16252399.576569423, 16251084.99997616, 16249775.676430963, 16248471.584942652, 16247172.704603933, 16245879.014591042, 16244590.494163446, 16243307.122663477, 16242028.879516022, 16240755.74422819, 16239487.696388962, 16238224.7156689, 16236966.781819794, 16235713.87467435, 16234465.974145861, 16233223.060227884, 16231985.11299392, 16230752.112597106, 16229524.03926988, 16228300.873323666, 16227082.59514857, 16225869.185213069, 16224660.624063665, 16223456.892324615, 16222257.970697597, 16221063.839961395, 16219874.480971618, 16218689.874660367, 16217510.00203593, 16216334.844182506, 16215164.38225986, 16213998.597503059, 16212837.471222145, 16211680.984801851, 16210529.119701292]\n"
     ]
    },
    {
     "data": {
      "text/plain": [
       "16210529.119701292"
      ]
     },
     "execution_count": 443,
     "metadata": {},
     "output_type": "execute_result"
    }
   ],
   "source": [
    "print(losses_mlp)\n",
    "losses_mlp[-1]"
   ]
  }
 ],
 "metadata": {
  "kernelspec": {
   "display_name": "Python 3",
   "language": "python",
   "name": "python3"
  },
  "language_info": {
   "codemirror_mode": {
    "name": "ipython",
    "version": 3
   },
   "file_extension": ".py",
   "mimetype": "text/x-python",
   "name": "python",
   "nbconvert_exporter": "python",
   "pygments_lexer": "ipython3",
   "version": "3.10.12"
  }
 },
 "nbformat": 4,
 "nbformat_minor": 5
}
