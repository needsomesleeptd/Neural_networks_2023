{
 "cells": [
  {
   "cell_type": "code",
   "execution_count": 4,
   "id": "8cc148dc-d83d-4c32-bbb0-3ffd82ba4e98",
   "metadata": {
    "is_executing": true
   },
   "outputs": [],
   "source": [
    "import numpy as np\n",
    "import pandas as pd\n",
    "import matplotlib.pyplot as plt\n",
    "\n",
    "from sklearn.linear_model import LinearRegression\n",
    "from sklearn.model_selection import train_test_split\n",
    "from sklearn.metrics import r2_score\n",
    "from sklearn.preprocessing import MinMaxScaler\n",
    "\n",
    "%matplotlib inline"
   ]
  },
  {
   "cell_type": "markdown",
   "id": "e3a06e1e-3bc0-4667-84f3-7e86698c3737",
   "metadata": {},
   "source": [
    "# Загружаем выборку Diamonds"
   ]
  },
  {
   "cell_type": "markdown",
   "id": "c731a143-3dc9-43e7-96f5-b1eff9093345",
   "metadata": {},
   "source": [
    "1. PRICE: price in US dollars (326-18,823)\n",
    "2. CARAT: weight of the diamond (0.2--5.01)\n",
    "3. CUT: quality of the cut (Fair, Good, Very Good, Premium, Ideal)\n",
    "4. COLOR: diamond colour, from J (worst) to D (best)\n",
    "5. CLARITY: a measurement of how clear the diamond is (I1 (worst), SI2, SI1, VS2, VS1, VVS2, VVS1, IF (best))\n",
    "6. X: length in mm (0--10.74)\n",
    "7. Y: width in mm (0--58.9)\n",
    "8. Z: depth in mm (0--31.8)\n",
    "9. DEPTH: total depth percentage = z / mean(x, y) = 2 * z / (x + y) (43--79)\n",
    "10. TABLE: width of top of diamond relative to widest point (43--95)"
   ]
  },
  {
   "cell_type": "code",
   "execution_count": 6,
   "id": "0f24cf86-653a-422b-9df1-8029fdccf153",
   "metadata": {},
   "outputs": [],
   "source": [
    "diamonds_df = pd.read_csv('diamonds.csv')"
   ]
  },
  {
   "cell_type": "code",
   "execution_count": 7,
   "id": "70d9ccfe-e1cf-4c90-a5ab-40ae0852f1ce",
   "metadata": {},
   "outputs": [
    {
     "data": {
      "text/html": [
       "<div>\n",
       "<style scoped>\n",
       "    .dataframe tbody tr th:only-of-type {\n",
       "        vertical-align: middle;\n",
       "    }\n",
       "\n",
       "    .dataframe tbody tr th {\n",
       "        vertical-align: top;\n",
       "    }\n",
       "\n",
       "    .dataframe thead th {\n",
       "        text-align: right;\n",
       "    }\n",
       "</style>\n",
       "<table border=\"1\" class=\"dataframe\">\n",
       "  <thead>\n",
       "    <tr style=\"text-align: right;\">\n",
       "      <th></th>\n",
       "      <th>Unnamed: 0</th>\n",
       "      <th>carat</th>\n",
       "      <th>cut</th>\n",
       "      <th>color</th>\n",
       "      <th>clarity</th>\n",
       "      <th>depth</th>\n",
       "      <th>table</th>\n",
       "      <th>price</th>\n",
       "      <th>x</th>\n",
       "      <th>y</th>\n",
       "      <th>z</th>\n",
       "    </tr>\n",
       "  </thead>\n",
       "  <tbody>\n",
       "    <tr>\n",
       "      <th>0</th>\n",
       "      <td>1</td>\n",
       "      <td>0.23</td>\n",
       "      <td>Ideal</td>\n",
       "      <td>E</td>\n",
       "      <td>SI2</td>\n",
       "      <td>61.5</td>\n",
       "      <td>55.0</td>\n",
       "      <td>326</td>\n",
       "      <td>3.95</td>\n",
       "      <td>3.98</td>\n",
       "      <td>2.43</td>\n",
       "    </tr>\n",
       "    <tr>\n",
       "      <th>1</th>\n",
       "      <td>2</td>\n",
       "      <td>0.21</td>\n",
       "      <td>Premium</td>\n",
       "      <td>E</td>\n",
       "      <td>SI1</td>\n",
       "      <td>59.8</td>\n",
       "      <td>61.0</td>\n",
       "      <td>326</td>\n",
       "      <td>3.89</td>\n",
       "      <td>3.84</td>\n",
       "      <td>2.31</td>\n",
       "    </tr>\n",
       "    <tr>\n",
       "      <th>2</th>\n",
       "      <td>3</td>\n",
       "      <td>0.23</td>\n",
       "      <td>Good</td>\n",
       "      <td>E</td>\n",
       "      <td>VS1</td>\n",
       "      <td>56.9</td>\n",
       "      <td>65.0</td>\n",
       "      <td>327</td>\n",
       "      <td>4.05</td>\n",
       "      <td>4.07</td>\n",
       "      <td>2.31</td>\n",
       "    </tr>\n",
       "    <tr>\n",
       "      <th>3</th>\n",
       "      <td>4</td>\n",
       "      <td>0.29</td>\n",
       "      <td>Premium</td>\n",
       "      <td>I</td>\n",
       "      <td>VS2</td>\n",
       "      <td>62.4</td>\n",
       "      <td>58.0</td>\n",
       "      <td>334</td>\n",
       "      <td>4.20</td>\n",
       "      <td>4.23</td>\n",
       "      <td>2.63</td>\n",
       "    </tr>\n",
       "    <tr>\n",
       "      <th>4</th>\n",
       "      <td>5</td>\n",
       "      <td>0.31</td>\n",
       "      <td>Good</td>\n",
       "      <td>J</td>\n",
       "      <td>SI2</td>\n",
       "      <td>63.3</td>\n",
       "      <td>58.0</td>\n",
       "      <td>335</td>\n",
       "      <td>4.34</td>\n",
       "      <td>4.35</td>\n",
       "      <td>2.75</td>\n",
       "    </tr>\n",
       "  </tbody>\n",
       "</table>\n",
       "</div>"
      ],
      "text/plain": [
       "   Unnamed: 0  carat      cut color clarity  depth  table  price     x     y  \\\n",
       "0           1   0.23    Ideal     E     SI2   61.5   55.0    326  3.95  3.98   \n",
       "1           2   0.21  Premium     E     SI1   59.8   61.0    326  3.89  3.84   \n",
       "2           3   0.23     Good     E     VS1   56.9   65.0    327  4.05  4.07   \n",
       "3           4   0.29  Premium     I     VS2   62.4   58.0    334  4.20  4.23   \n",
       "4           5   0.31     Good     J     SI2   63.3   58.0    335  4.34  4.35   \n",
       "\n",
       "      z  \n",
       "0  2.43  \n",
       "1  2.31  \n",
       "2  2.31  \n",
       "3  2.63  \n",
       "4  2.75  "
      ]
     },
     "execution_count": 7,
     "metadata": {},
     "output_type": "execute_result"
    }
   ],
   "source": [
    "diamonds_df.head()"
   ]
  },
  {
   "cell_type": "code",
   "execution_count": 8,
   "id": "fad21c95-f542-44ec-8f06-8f57fd42ddef",
   "metadata": {
    "is_executing": true
   },
   "outputs": [
    {
     "data": {
      "image/png": "[encoded data removed]",
      "text/plain": [
       "<Figure size 640x480 with 1 Axes>"
      ]
     },
     "metadata": {},
     "output_type": "display_data"
    }
   ],
   "source": [
    "plt.hist(diamonds_df['price'], bins=100)\n",
    "plt.grid();"
   ]
  },
  {
   "cell_type": "markdown",
   "id": "17ac44bb-86c7-424a-8b9b-0a21bf490683",
   "metadata": {},
   "source": [
    "# Подготовка данных"
   ]
  },
  {
   "cell_type": "code",
   "execution_count": 9,
   "id": "e19945ea-cecf-481e-a28b-3f9c11001918",
   "metadata": {
    "is_executing": true
   },
   "outputs": [],
   "source": [
    "features = ['carat', 'cut', 'color', 'clarity', 'depth', 'table', 'x', 'y', 'z']\n",
    "target = ['price']"
   ]
  },
  {
   "cell_type": "code",
   "execution_count": 10,
   "metadata": {
    "collapsed": false,
    "is_executing": true
   },
   "outputs": [
    {
     "name": "stdout",
     "output_type": "stream",
     "text": [
      "[1, 2]\n"
     ]
    }
   ],
   "source": [
    "print([1,2])"
   ]
  },
  {
   "cell_type": "code",
   "execution_count": 11,
   "id": "fbc43eb0-e77f-4765-8b0e-b9052c093855",
   "metadata": {},
   "outputs": [],
   "source": [
    "cut_transform = {'Fair': 0, 'Good': 1, 'Very Good': 2, 'Premium': 3, 'Ideal': 4}\n",
    "clarity_transform = {'I1': 0, 'SI2': 1, 'SI1': 2, 'VS2': 3, 'VS1': 4, 'VVS2': 5, 'VVS1': 6, 'IF': 7}\n",
    "color_transorm = {'D': 0, 'E': 1, 'F': 2, 'G': 3, 'H': 4, 'I': 5, 'J': 6}"
   ]
  },
  {
   "cell_type": "code",
   "execution_count": 12,
   "id": "6f82b34f-9ffc-478f-a103-b2cbbca49a94",
   "metadata": {},
   "outputs": [],
   "source": [
    "diamonds_df['cut'] = diamonds_df['cut'].apply(lambda x: cut_transform.get(x))\n",
    "diamonds_df['color'] = diamonds_df['color'].apply(lambda x: color_transorm.get(x))\n",
    "diamonds_df['clarity'] = diamonds_df['clarity'].apply(lambda x: clarity_transform.get(x))"
   ]
  },
  {
   "cell_type": "code",
   "execution_count": 147,
   "id": "0d9b6e3b",
   "metadata": {},
   "outputs": [
    {
     "data": {
      "text/html": [
       "<div>\n",
       "<style scoped>\n",
       "    .dataframe tbody tr th:only-of-type {\n",
       "        vertical-align: middle;\n",
       "    }\n",
       "\n",
       "    .dataframe tbody tr th {\n",
       "        vertical-align: top;\n",
       "    }\n",
       "\n",
       "    .dataframe thead th {\n",
       "        text-align: right;\n",
       "    }\n",
       "</style>\n",
       "<table border=\"1\" class=\"dataframe\">\n",
       "  <thead>\n",
       "    <tr style=\"text-align: right;\">\n",
       "      <th></th>\n",
       "      <th>Unnamed: 0</th>\n",
       "      <th>carat</th>\n",
       "      <th>cut</th>\n",
       "      <th>color</th>\n",
       "      <th>clarity</th>\n",
       "      <th>depth</th>\n",
       "      <th>table</th>\n",
       "      <th>price</th>\n",
       "      <th>x</th>\n",
       "      <th>y</th>\n",
       "      <th>z</th>\n",
       "    </tr>\n",
       "  </thead>\n",
       "  <tbody>\n",
       "    <tr>\n",
       "      <th>0</th>\n",
       "      <td>1</td>\n",
       "      <td>0.23</td>\n",
       "      <td>4</td>\n",
       "      <td>1</td>\n",
       "      <td>1</td>\n",
       "      <td>61.5</td>\n",
       "      <td>55.0</td>\n",
       "      <td>326</td>\n",
       "      <td>3.95</td>\n",
       "      <td>3.98</td>\n",
       "      <td>2.43</td>\n",
       "    </tr>\n",
       "    <tr>\n",
       "      <th>1</th>\n",
       "      <td>2</td>\n",
       "      <td>0.21</td>\n",
       "      <td>3</td>\n",
       "      <td>1</td>\n",
       "      <td>2</td>\n",
       "      <td>59.8</td>\n",
       "      <td>61.0</td>\n",
       "      <td>326</td>\n",
       "      <td>3.89</td>\n",
       "      <td>3.84</td>\n",
       "      <td>2.31</td>\n",
       "    </tr>\n",
       "    <tr>\n",
       "      <th>2</th>\n",
       "      <td>3</td>\n",
       "      <td>0.23</td>\n",
       "      <td>1</td>\n",
       "      <td>1</td>\n",
       "      <td>4</td>\n",
       "      <td>56.9</td>\n",
       "      <td>65.0</td>\n",
       "      <td>327</td>\n",
       "      <td>4.05</td>\n",
       "      <td>4.07</td>\n",
       "      <td>2.31</td>\n",
       "    </tr>\n",
       "    <tr>\n",
       "      <th>3</th>\n",
       "      <td>4</td>\n",
       "      <td>0.29</td>\n",
       "      <td>3</td>\n",
       "      <td>5</td>\n",
       "      <td>3</td>\n",
       "      <td>62.4</td>\n",
       "      <td>58.0</td>\n",
       "      <td>334</td>\n",
       "      <td>4.20</td>\n",
       "      <td>4.23</td>\n",
       "      <td>2.63</td>\n",
       "    </tr>\n",
       "    <tr>\n",
       "      <th>4</th>\n",
       "      <td>5</td>\n",
       "      <td>0.31</td>\n",
       "      <td>1</td>\n",
       "      <td>6</td>\n",
       "      <td>1</td>\n",
       "      <td>63.3</td>\n",
       "      <td>58.0</td>\n",
       "      <td>335</td>\n",
       "      <td>4.34</td>\n",
       "      <td>4.35</td>\n",
       "      <td>2.75</td>\n",
       "    </tr>\n",
       "  </tbody>\n",
       "</table>\n",
       "</div>"
      ],
      "text/plain": [
       "   Unnamed: 0  carat  cut  color  clarity  depth  table  price     x     y  \\\n",
       "0           1   0.23    4      1        1   61.5   55.0    326  3.95  3.98   \n",
       "1           2   0.21    3      1        2   59.8   61.0    326  3.89  3.84   \n",
       "2           3   0.23    1      1        4   56.9   65.0    327  4.05  4.07   \n",
       "3           4   0.29    3      5        3   62.4   58.0    334  4.20  4.23   \n",
       "4           5   0.31    1      6        1   63.3   58.0    335  4.34  4.35   \n",
       "\n",
       "      z  \n",
       "0  2.43  \n",
       "1  2.31  \n",
       "2  2.31  \n",
       "3  2.63  \n",
       "4  2.75  "
      ]
     },
     "execution_count": 147,
     "metadata": {},
     "output_type": "execute_result"
    }
   ],
   "source": [
    "diamonds_df.head()"
   ]
  },
  {
   "cell_type": "code",
   "execution_count": 13,
   "id": "8e5fa82b-92ed-4e79-adf2-422204b45e82",
   "metadata": {},
   "outputs": [],
   "source": [
    "X = diamonds_df[features].copy().values\n",
    "y = diamonds_df[target].values"
   ]
  },
  {
   "cell_type": "code",
   "execution_count": 14,
   "id": "baafcd96-b32e-469e-b354-fa0aba09db8f",
   "metadata": {},
   "outputs": [],
   "source": [
    "scaler = MinMaxScaler()\n",
    "X = scaler.fit_transform(X)"
   ]
  },
  {
   "cell_type": "code",
   "execution_count": 15,
   "id": "64c11d68-dc5c-4753-9cc4-3cc4e136f3cb",
   "metadata": {},
   "outputs": [],
   "source": [
    "X_train, X_test, y_train, y_test = train_test_split(X, y, random_state=47, test_size=0.3)"
   ]
  },
  {
   "cell_type": "markdown",
   "id": "3b743ed1-d0cf-485d-b8f2-8c71fc174e8b",
   "metadata": {},
   "source": [
    "# Обучаем модель линейной регрессии"
   ]
  },
  {
   "cell_type": "code",
   "execution_count": 16,
   "id": "0068e36f-040e-4aa3-bb06-88aa95051478",
   "metadata": {},
   "outputs": [],
   "source": [
    "reg = LinearRegression().fit(X_train, y_train)"
   ]
  },
  {
   "cell_type": "code",
   "execution_count": 17,
   "id": "f968e336-4049-41b2-81d1-4c24f0969bbb",
   "metadata": {},
   "outputs": [],
   "source": [
    "y_pred = reg.predict(X_test)"
   ]
  },
  {
   "cell_type": "code",
   "execution_count": 18,
   "id": "0952990a-b3d6-4da4-9cc6-1ab3a7a25ac7",
   "metadata": {},
   "outputs": [],
   "source": [
    "score = r2_score(y_pred, y_test)"
   ]
  },
  {
   "cell_type": "code",
   "execution_count": 19,
   "id": "f89c3bbd-0a3a-48ac-b1ab-b75dc0c5bcce",
   "metadata": {},
   "outputs": [
    {
     "data": {
      "image/png": "[encoded data removed]",
      "text/plain": [
       "<Figure size 640x480 with 1 Axes>"
      ]
     },
     "metadata": {},
     "output_type": "display_data"
    }
   ],
   "source": [
    "plt.title(f'R2: {str(score)[:5]}')\n",
    "plt.hist(y_pred.reshape(1, -1)[0], bins=100, label='PREDICTION')\n",
    "plt.hist(y_test.reshape(1, -1)[0], bins=100, label='GT')\n",
    "plt.legend()\n",
    "plt.grid();"
   ]
  },
  {
   "cell_type": "markdown",
   "id": "7886f8b7-ba2e-4fde-8b91-f815ea961fe5",
   "metadata": {},
   "source": [
    "# Создаём модель MLP для задачи регрессии"
   ]
  },
  {
   "cell_type": "code",
   "execution_count": 702,
   "id": "061fbe90",
   "metadata": {},
   "outputs": [],
   "source": [
    "class SigmoidLayer:\n",
    "    def __init__(self) -> None:\n",
    "        pass\n",
    "    def forward(self,X):\n",
    "        self.y = 1/(1 + np.exp(-X))\n",
    "        return self.y\n",
    "    def backward(self,dLdy):\n",
    "        return dLdy * self.y * (1 - self.y)\n",
    "    def step(self):\n",
    "        pass"
   ]
  },
  {
   "cell_type": "code",
   "execution_count": 703,
   "id": "51b7ef93-763a-4617-98e4-c2c98e2a12a5",
   "metadata": {},
   "outputs": [],
   "source": [
    "class LinearLayer:\n",
    "    def __init__(self, input_size,output_size,l_r):\n",
    "        self.W = np.ones((input_size,output_size)) * 0.01\n",
    "        self.b = np.ones((output_size)) * 0.01\n",
    "        self.l_r = l_r\n",
    "        \n",
    "    \n",
    "    def forward(self, X):\n",
    "        self.X = X\n",
    "        #print(X.shape, self.W.shape)\n",
    "        self.Y = X @ self.W + self.b\n",
    "        return self.Y\n",
    "    \n",
    "    def backward(self, dLdy):\n",
    "        dydw = self.W\n",
    "        self.dLdw = np.expand_dims(self.X, -1) * np.expand_dims(dLdy, -2) # Because it is 3D matrix\n",
    "        self.dLdb = dLdy # as dy/db == 1\n",
    "          \n",
    "        if len(self.dLdw.shape) > 2:\n",
    "            self.dLdw = self.dLdw.sum(axis=0)\n",
    "        if len(self.dLdb) > 2:\n",
    "             self.dLdb = self.dLdb.sum(axis=0)\n",
    "        \n",
    "        dLdx = dLdy @ self.W.T\n",
    "        return dLdx\n",
    "    def step(self):\n",
    "        self.W -= self.dLdw * self.l_r\n",
    "        self.b -= self.dLdb * self.l_r"
   ]
  },
  {
   "cell_type": "code",
   "execution_count": null,
   "id": "58545528",
   "metadata": {},
   "outputs": [],
   "source": []
  },
  {
   "cell_type": "code",
   "execution_count": 783,
   "id": "a28cf88a",
   "metadata": {},
   "outputs": [
    {
     "data": {
      "text/plain": [
       "array([[1.2, 1.2],\n",
       "       [3.4, 3.4],\n",
       "       [5.6, 5.6]])"
      ]
     },
     "execution_count": 783,
     "metadata": {},
     "output_type": "execute_result"
    }
   ],
   "source": [
    "def check_gradient(f,x,eps = 1e-6):\n",
    "    y = np.ones(x.shape)\n",
    "    for i in range(x.shape[0]):\n",
    "            if (len(x.shape) > 1):\n",
    "                for j in range(x.shape[1]):\n",
    "                    x[i,j] += eps\n",
    "                    f_plus = f(x)\n",
    "                    x[i][j] -= 2 * eps\n",
    "                    f_minus = f(x)\n",
    "                    x[i][j] += eps\n",
    "\n",
    "                    y[i][j] = (f_plus - f_minus) / (2 * eps)\n",
    "            else:\n",
    "                    x[i] += eps\n",
    "                    f_plus = f(x)\n",
    "                    x[i] -= 2 * eps\n",
    "                    f_minus = f(x)\n",
    "                    x[i] += eps\n",
    "\n",
    "                    y[i] = (f_plus - f_minus) / (2 * eps)\n",
    "    return y\n",
    "\n",
    "test_x = np.array([1.2, 3.4, 5.6])\n",
    "linearTest = LinearLayer(3,2,0.1)\n",
    "linearTest.forward(test_x)\n",
    "def f(W,x=test_x):\n",
    "      return linearTest.forward(x).sum()\n",
    "    \n",
    "check_gradient(f, linearTest.W)"
   ]
  },
  {
   "cell_type": "code",
   "execution_count": 784,
   "id": "d406c9b2",
   "metadata": {},
   "outputs": [
    {
     "name": "stdout",
     "output_type": "stream",
     "text": [
      "[[1.2 1.2]\n",
      " [3.4 3.4]\n",
      " [5.6 5.6]]\n"
     ]
    }
   ],
   "source": [
    "\n",
    "linearTest.backward(np.ones(2))\n",
    "print(linearTest.dLdw)"
   ]
  },
  {
   "cell_type": "code",
   "execution_count": 954,
   "id": "ec510ef0",
   "metadata": {},
   "outputs": [],
   "source": [
    "class MSELOSS:\n",
    "    def __init__(self) -> None:\n",
    "        pass\n",
    "    def forward(self,y,y_res):\n",
    "        self.n = y.shape[0]\n",
    "        #print(y.shape,y_res.shape)\n",
    "        self.diff = y - y_res\n",
    "        #print(self.diff.shape)\n",
    "        self.L = (self.diff ** 2).mean()\n",
    "        return self.L\n",
    "    def backward(self):\n",
    "        dLdy =   (-1 / self.n) * np.sum(2 * self.diff)\n",
    "        return dLdy\n"
   ]
  },
  {
   "cell_type": "code",
   "execution_count": 955,
   "id": "ed7a7dcc",
   "metadata": {},
   "outputs": [],
   "source": [
    "class R2LOSS:\n",
    "    def __init__(self) -> None:\n",
    "        pass\n",
    "    def forward(self,y,y_res):\n",
    "        self.n = y.shape[0]\n",
    "        self.diff = y - y_res \n",
    "        self.L = 1 - ( y - y_res) ** 2\n",
    "        return self.L\n",
    "    def backward(self):\n",
    "        dLdy =   (1 / self.n) * (2 * self.diff)\n",
    "        return dLdy"
   ]
  },
  {
   "cell_type": "code",
   "execution_count": 956,
   "id": "83f67b24",
   "metadata": {},
   "outputs": [],
   "source": [
    "class MLPRegressor:\n",
    "    def __init__(\n",
    "        self,\n",
    "        hidden_layer_sizes=(100,100),\n",
    "        learning_rate=1e-6,\n",
    "        max_iter=100,\n",
    "        layers = None,\n",
    "        loss = None\n",
    "    ):\n",
    "        self.learning_rate = learning_rate\n",
    "        self.max_iter = max_iter\n",
    "        self.hidden_layer_sizes = hidden_layer_sizes\n",
    "        self.layers = layers\n",
    "        self.loss = loss\n",
    "        if (self.layers == None):\n",
    "            self.layers = []\n",
    "            layer_size = hidden_layer_sizes[1]\n",
    "            for i in range(hidden_layer_sizes[0]): #layersCount\n",
    "                self.layers.append(LinearLayer(layer_size,layer_size,learning_rate))\n",
    "                self.layers.append(SigmoidLayer())\n",
    "        self.layers.append(LinearLayer(layer_size,1,learning_rate))\n",
    "        if (self.loss == None):\n",
    "            self.loss = MSELOSS()\n",
    "    \n",
    "    def train(self, X, y):\n",
    "        losses = []\n",
    "        saved_X = X\n",
    "        for i in range(self.max_iter):\n",
    "            X = saved_X\n",
    "            for layer in self.layers:\n",
    "                X = layer.forward(X)\n",
    "                #print(f'X =={X}',X)\n",
    "                \n",
    "            L = self.loss.forward(X,y) # On last interation the input will be the result\n",
    "            losses.append(L)\n",
    "            dLdy = self.loss.backward()\n",
    "            for layer in self.layers[::-1]:\n",
    "                dLdy = layer.backward(dLdy)\n",
    "\n",
    "            for layer in self.layers:\n",
    "                layer.step()\n",
    "        return losses\n",
    "\n",
    "    def predict(self, X):\n",
    "        for layer in self.layers:\n",
    "                X = layer.forward(X)\n",
    "        return X"
   ]
  },
  {
   "cell_type": "code",
   "execution_count": 957,
   "id": "1fc30d02",
   "metadata": {},
   "outputs": [
    {
     "data": {
      "text/plain": [
       "(array([[0.74804502, 0.39439733, 0.74294972, 0.87231891, 0.05324942,\n",
       "         0.04283444, 0.66278352, 0.34380899, 0.70224078, 0.507612  ,\n",
       "         0.18709521, 0.71262742, 0.15265394, 0.19704141, 0.25747477,\n",
       "         0.43513354, 0.73717554, 0.42817507, 0.71974746, 0.61237276,\n",
       "         0.79090302, 0.78360893, 0.33797215, 0.90102223, 0.45968633,\n",
       "         0.5307599 , 0.33195739, 0.58390119, 0.64352215, 0.66026824,\n",
       "         0.05108965, 0.90803038, 0.37933102, 0.12445247, 0.15838652,\n",
       "         0.53099157, 0.61656324, 0.77181176, 0.36629766, 0.60169977,\n",
       "         0.82038438, 0.19673996, 0.28849678, 0.38356009, 0.23357256,\n",
       "         0.31139416, 0.68173564, 0.95533289, 0.74020004, 0.49778895]]),\n",
       " array([[0.56180953, 0.25407618, 0.62364297, 0.00551567, 0.2991805 ,\n",
       "         0.06748449, 0.44944238, 0.59114395, 0.69005839, 0.45548653,\n",
       "         0.00896061, 0.65669698, 0.68795144, 0.23889139, 0.85847925,\n",
       "         0.99274176, 0.37659297, 0.51956626, 0.62591793, 0.94798563,\n",
       "         0.87281643, 0.10608038, 0.43875017, 0.08322372, 0.7053618 ,\n",
       "         0.08692644, 0.16224557, 0.54761325, 0.83584334, 0.90399118,\n",
       "         0.48060871, 0.19785145, 0.92553053, 0.31422835, 0.95859778,\n",
       "         0.44583252, 0.6005296 , 0.94508598, 0.71763228, 0.06864191,\n",
       "         0.78962666, 0.10345671, 0.5278908 , 0.00708997, 0.66944321,\n",
       "         0.7691541 , 0.44960544, 0.33883915, 0.8447341 , 0.15061714]]))"
      ]
     },
     "execution_count": 957,
     "metadata": {},
     "output_type": "execute_result"
    }
   ],
   "source": [
    "test_y,test_y_res"
   ]
  },
  {
   "cell_type": "code",
   "execution_count": 958,
   "id": "1d3e89ba",
   "metadata": {},
   "outputs": [
    {
     "data": {
      "text/plain": [
       "array([[ 0.02468539,  0.01512972, -0.00318359,  0.02350272,  0.03192471,\n",
       "        -0.00219962, -0.01639661, -0.0069921 ,  0.00248269,  0.02134035,\n",
       "         0.0149857 , -0.00447608, -0.01060683, -0.03672421, -0.00424008,\n",
       "        -0.004881  ,  0.02235264,  0.01013587,  0.00342943,  0.01066746,\n",
       "        -0.00721104, -0.01439523,  0.00764557, -0.00573136, -0.00719223,\n",
       "         0.02782862,  0.00041013,  0.02130172, -0.00513083, -0.00974579,\n",
       "        -0.02198897,  0.0279587 ,  0.00683277,  0.00802489,  0.00752114,\n",
       "        -0.01764801,  0.02262323, -0.01147389, -0.0180007 , -0.00429816,\n",
       "         0.00948983,  0.02375058,  0.03557831,  0.01339956, -0.02058863,\n",
       "         0.00182155,  0.01345934,  0.00917129, -0.00322449,  0.01152448]])"
      ]
     },
     "execution_count": 958,
     "metadata": {},
     "output_type": "execute_result"
    }
   ],
   "source": [
    "TestMSELOSS = MSELOSS()\n",
    "chosen_size = 50\n",
    "test_y = np.random.rand(1,chosen_size)\n",
    "test_y_res = np.random.rand(1,chosen_size)\n",
    "TestMSELOSS.forward(test_y,test_y_res)\n",
    "def f_loss(W,y=test_y,y_res = test_y_res):\n",
    "      return TestMSELOSS.forward(y,y_res).sum()\n",
    "check_gradient(f_loss, test_y_res)"
   ]
  },
  {
   "cell_type": "code",
   "execution_count": 959,
   "id": "cc9fa095",
   "metadata": {},
   "outputs": [
    {
     "data": {
      "text/plain": [
       "9.632444768050654"
      ]
     },
     "execution_count": 959,
     "metadata": {},
     "output_type": "execute_result"
    }
   ],
   "source": [
    "TestMSELOSS.backward()"
   ]
  },
  {
   "cell_type": "code",
   "execution_count": 960,
   "id": "0e4d6230-d770-480d-a2d8-8278796fc5b5",
   "metadata": {},
   "outputs": [
    {
     "data": {
      "text/plain": [
       "9"
      ]
     },
     "execution_count": 960,
     "metadata": {},
     "output_type": "execute_result"
    }
   ],
   "source": [
    "len(features)"
   ]
  },
  {
   "cell_type": "markdown",
   "id": "2afb2d95-c521-406d-b601-0baf84cb4a54",
   "metadata": {},
   "source": [
    "# Проверяем модель MLP на выборке Diamonds"
   ]
  },
  {
   "cell_type": "code",
   "execution_count": null,
   "id": "44174c1b",
   "metadata": {},
   "outputs": [],
   "source": [
    "\n"
   ]
  },
  {
   "cell_type": "code",
   "execution_count": 961,
   "id": "f445cb37",
   "metadata": {},
   "outputs": [],
   "source": [
    "mlpRegressorTest = MLPRegressor(hidden_layer_sizes=(2,3))\n"
   ]
  },
  {
   "cell_type": "code",
   "execution_count": 962,
   "id": "20ad08b9",
   "metadata": {},
   "outputs": [],
   "source": [
    "mlpRegressor = MLPRegressor(hidden_layer_sizes=(2,len(features)))"
   ]
  },
  {
   "cell_type": "code",
   "execution_count": 963,
   "id": "a0b622a5",
   "metadata": {},
   "outputs": [
    {
     "name": "stdout",
     "output_type": "stream",
     "text": [
      "[[0.05197505 0.75       0.83333333 ... 0.45623836 0.08285229 0.09685535]\n",
      " [0.31185031 1.         0.33333333 ... 0.7122905  0.12852292 0.14937107]\n",
      " [0.07068607 1.         0.16666667 ... 0.49068901 0.08981324 0.10062893]\n",
      " ...\n",
      " [0.07276507 0.5        0.33333333 ... 0.49255121 0.09032258 0.10125786]\n",
      " [0.07068607 1.         0.33333333 ... 0.49068901 0.08913413 0.10125786]\n",
      " [0.03950104 0.75       0.5        ... 0.44134078 0.07962649 0.09025157]]\n"
     ]
    }
   ],
   "source": [
    "print(X_train)"
   ]
  },
  {
   "cell_type": "code",
   "execution_count": 964,
   "id": "1e7ee858",
   "metadata": {},
   "outputs": [
    {
     "ename": "AxisError",
     "evalue": "axis -2 is out of bounds for array of dimension 1",
     "output_type": "error",
     "traceback": [
      "\u001b[0;31m---------------------------------------------------------------------------\u001b[0m",
      "\u001b[0;31mAxisError\u001b[0m                                 Traceback (most recent call last)",
      "\u001b[1;32m/home/andrew/tech/dl-course/2023_spring/lecture1/homework/lecture1_hw.ipynb Cell 39\u001b[0m line \u001b[0;36m1\n\u001b[0;32m----> <a href='vscode-notebook-cell://wsl%2Bubuntu-20.04/home/andrew/tech/dl-course/2023_spring/lecture1/homework/lecture1_hw.ipynb#X46sdnNjb2RlLXJlbW90ZQ%3D%3D?line=0'>1</a>\u001b[0m losses_mlp \u001b[39m=\u001b[39m mlpRegressor\u001b[39m.\u001b[39;49mtrain(X_train,y_train)\n",
      "\u001b[1;32m/home/andrew/tech/dl-course/2023_spring/lecture1/homework/lecture1_hw.ipynb Cell 39\u001b[0m line \u001b[0;36m3\n\u001b[1;32m     <a href='vscode-notebook-cell://wsl%2Bubuntu-20.04/home/andrew/tech/dl-course/2023_spring/lecture1/homework/lecture1_hw.ipynb#X46sdnNjb2RlLXJlbW90ZQ%3D%3D?line=35'>36</a>\u001b[0m dLdy \u001b[39m=\u001b[39m \u001b[39mself\u001b[39m\u001b[39m.\u001b[39mloss\u001b[39m.\u001b[39mbackward()\n\u001b[1;32m     <a href='vscode-notebook-cell://wsl%2Bubuntu-20.04/home/andrew/tech/dl-course/2023_spring/lecture1/homework/lecture1_hw.ipynb#X46sdnNjb2RlLXJlbW90ZQ%3D%3D?line=36'>37</a>\u001b[0m \u001b[39mfor\u001b[39;00m layer \u001b[39min\u001b[39;00m \u001b[39mself\u001b[39m\u001b[39m.\u001b[39mlayers[::\u001b[39m-\u001b[39m\u001b[39m1\u001b[39m]:\n\u001b[0;32m---> <a href='vscode-notebook-cell://wsl%2Bubuntu-20.04/home/andrew/tech/dl-course/2023_spring/lecture1/homework/lecture1_hw.ipynb#X46sdnNjb2RlLXJlbW90ZQ%3D%3D?line=37'>38</a>\u001b[0m     dLdy \u001b[39m=\u001b[39m layer\u001b[39m.\u001b[39;49mbackward(dLdy)\n\u001b[1;32m     <a href='vscode-notebook-cell://wsl%2Bubuntu-20.04/home/andrew/tech/dl-course/2023_spring/lecture1/homework/lecture1_hw.ipynb#X46sdnNjb2RlLXJlbW90ZQ%3D%3D?line=39'>40</a>\u001b[0m \u001b[39mfor\u001b[39;00m layer \u001b[39min\u001b[39;00m \u001b[39mself\u001b[39m\u001b[39m.\u001b[39mlayers:\n\u001b[1;32m     <a href='vscode-notebook-cell://wsl%2Bubuntu-20.04/home/andrew/tech/dl-course/2023_spring/lecture1/homework/lecture1_hw.ipynb#X46sdnNjb2RlLXJlbW90ZQ%3D%3D?line=40'>41</a>\u001b[0m     layer\u001b[39m.\u001b[39mstep()\n",
      "\u001b[1;32m/home/andrew/tech/dl-course/2023_spring/lecture1/homework/lecture1_hw.ipynb Cell 39\u001b[0m line \u001b[0;36m1\n\u001b[1;32m     <a href='vscode-notebook-cell://wsl%2Bubuntu-20.04/home/andrew/tech/dl-course/2023_spring/lecture1/homework/lecture1_hw.ipynb#X46sdnNjb2RlLXJlbW90ZQ%3D%3D?line=13'>14</a>\u001b[0m \u001b[39mdef\u001b[39;00m \u001b[39mbackward\u001b[39m(\u001b[39mself\u001b[39m, dLdy):\n\u001b[1;32m     <a href='vscode-notebook-cell://wsl%2Bubuntu-20.04/home/andrew/tech/dl-course/2023_spring/lecture1/homework/lecture1_hw.ipynb#X46sdnNjb2RlLXJlbW90ZQ%3D%3D?line=14'>15</a>\u001b[0m     dydw \u001b[39m=\u001b[39m \u001b[39mself\u001b[39m\u001b[39m.\u001b[39mW\n\u001b[0;32m---> <a href='vscode-notebook-cell://wsl%2Bubuntu-20.04/home/andrew/tech/dl-course/2023_spring/lecture1/homework/lecture1_hw.ipynb#X46sdnNjb2RlLXJlbW90ZQ%3D%3D?line=15'>16</a>\u001b[0m     \u001b[39mself\u001b[39m\u001b[39m.\u001b[39mdLdw \u001b[39m=\u001b[39m np\u001b[39m.\u001b[39mexpand_dims(\u001b[39mself\u001b[39m\u001b[39m.\u001b[39mX, \u001b[39m-\u001b[39m\u001b[39m1\u001b[39m) \u001b[39m*\u001b[39m np\u001b[39m.\u001b[39;49mexpand_dims(dLdy, \u001b[39m-\u001b[39;49m\u001b[39m2\u001b[39;49m) \u001b[39m# Because it is 3D matrix\u001b[39;00m\n\u001b[1;32m     <a href='vscode-notebook-cell://wsl%2Bubuntu-20.04/home/andrew/tech/dl-course/2023_spring/lecture1/homework/lecture1_hw.ipynb#X46sdnNjb2RlLXJlbW90ZQ%3D%3D?line=16'>17</a>\u001b[0m     \u001b[39mself\u001b[39m\u001b[39m.\u001b[39mdLdb \u001b[39m=\u001b[39m dLdy \u001b[39m# as dy/db == 1\u001b[39;00m\n\u001b[1;32m     <a href='vscode-notebook-cell://wsl%2Bubuntu-20.04/home/andrew/tech/dl-course/2023_spring/lecture1/homework/lecture1_hw.ipynb#X46sdnNjb2RlLXJlbW90ZQ%3D%3D?line=18'>19</a>\u001b[0m     \u001b[39mif\u001b[39;00m \u001b[39mlen\u001b[39m(\u001b[39mself\u001b[39m\u001b[39m.\u001b[39mdLdw\u001b[39m.\u001b[39mshape) \u001b[39m>\u001b[39m \u001b[39m2\u001b[39m:\n",
      "File \u001b[0;32m~/.local/lib/python3.10/site-packages/numpy/lib/shape_base.py:597\u001b[0m, in \u001b[0;36mexpand_dims\u001b[0;34m(a, axis)\u001b[0m\n\u001b[1;32m    594\u001b[0m     axis \u001b[39m=\u001b[39m (axis,)\n\u001b[1;32m    596\u001b[0m out_ndim \u001b[39m=\u001b[39m \u001b[39mlen\u001b[39m(axis) \u001b[39m+\u001b[39m a\u001b[39m.\u001b[39mndim\n\u001b[0;32m--> 597\u001b[0m axis \u001b[39m=\u001b[39m normalize_axis_tuple(axis, out_ndim)\n\u001b[1;32m    599\u001b[0m shape_it \u001b[39m=\u001b[39m \u001b[39miter\u001b[39m(a\u001b[39m.\u001b[39mshape)\n\u001b[1;32m    600\u001b[0m shape \u001b[39m=\u001b[39m [\u001b[39m1\u001b[39m \u001b[39mif\u001b[39;00m ax \u001b[39min\u001b[39;00m axis \u001b[39melse\u001b[39;00m \u001b[39mnext\u001b[39m(shape_it) \u001b[39mfor\u001b[39;00m ax \u001b[39min\u001b[39;00m \u001b[39mrange\u001b[39m(out_ndim)]\n",
      "File \u001b[0;32m~/.local/lib/python3.10/site-packages/numpy/core/numeric.py:1380\u001b[0m, in \u001b[0;36mnormalize_axis_tuple\u001b[0;34m(axis, ndim, argname, allow_duplicate)\u001b[0m\n\u001b[1;32m   1378\u001b[0m         \u001b[39mpass\u001b[39;00m\n\u001b[1;32m   1379\u001b[0m \u001b[39m# Going via an iterator directly is slower than via list comprehension.\u001b[39;00m\n\u001b[0;32m-> 1380\u001b[0m axis \u001b[39m=\u001b[39m \u001b[39mtuple\u001b[39m([normalize_axis_index(ax, ndim, argname) \u001b[39mfor\u001b[39;00m ax \u001b[39min\u001b[39;00m axis])\n\u001b[1;32m   1381\u001b[0m \u001b[39mif\u001b[39;00m \u001b[39mnot\u001b[39;00m allow_duplicate \u001b[39mand\u001b[39;00m \u001b[39mlen\u001b[39m(\u001b[39mset\u001b[39m(axis)) \u001b[39m!=\u001b[39m \u001b[39mlen\u001b[39m(axis):\n\u001b[1;32m   1382\u001b[0m     \u001b[39mif\u001b[39;00m argname:\n",
      "File \u001b[0;32m~/.local/lib/python3.10/site-packages/numpy/core/numeric.py:1380\u001b[0m, in \u001b[0;36m<listcomp>\u001b[0;34m(.0)\u001b[0m\n\u001b[1;32m   1378\u001b[0m         \u001b[39mpass\u001b[39;00m\n\u001b[1;32m   1379\u001b[0m \u001b[39m# Going via an iterator directly is slower than via list comprehension.\u001b[39;00m\n\u001b[0;32m-> 1380\u001b[0m axis \u001b[39m=\u001b[39m \u001b[39mtuple\u001b[39m([normalize_axis_index(ax, ndim, argname) \u001b[39mfor\u001b[39;00m ax \u001b[39min\u001b[39;00m axis])\n\u001b[1;32m   1381\u001b[0m \u001b[39mif\u001b[39;00m \u001b[39mnot\u001b[39;00m allow_duplicate \u001b[39mand\u001b[39;00m \u001b[39mlen\u001b[39m(\u001b[39mset\u001b[39m(axis)) \u001b[39m!=\u001b[39m \u001b[39mlen\u001b[39m(axis):\n\u001b[1;32m   1382\u001b[0m     \u001b[39mif\u001b[39;00m argname:\n",
      "\u001b[0;31mAxisError\u001b[0m: axis -2 is out of bounds for array of dimension 1"
     ]
    }
   ],
   "source": [
    "losses_mlp = mlpRegressor.train(X_train,y_train)"
   ]
  },
  {
   "cell_type": "code",
   "execution_count": null,
   "id": "0e63c5f4",
   "metadata": {},
   "outputs": [],
   "source": [
    "y_pred_mlp = mlpRegressor.predict(X_test)\n"
   ]
  },
  {
   "cell_type": "code",
   "execution_count": null,
   "id": "b167fe36",
   "metadata": {},
   "outputs": [],
   "source": [
    "score_mlp = r2_score(y_pred_mlp, y_test)"
   ]
  },
  {
   "cell_type": "code",
   "execution_count": null,
   "id": "948b3033",
   "metadata": {},
   "outputs": [
    {
     "name": "stdout",
     "output_type": "stream",
     "text": [
      "[[-3.29023943]\n",
      " [-3.30977486]\n",
      " [-3.27388519]\n",
      " ...\n",
      " [-3.3010534 ]\n",
      " [-3.31463147]\n",
      " [-3.29312892]]\n"
     ]
    }
   ],
   "source": [
    "print(y_pred_mlp)"
   ]
  },
  {
   "cell_type": "code",
   "execution_count": null,
   "id": "7b221c09",
   "metadata": {},
   "outputs": [
    {
     "data": {
      "image/png": "[encoded data removed]",
      "text/plain": [
       "<Figure size 640x480 with 1 Axes>"
      ]
     },
     "metadata": {},
     "output_type": "display_data"
    }
   ],
   "source": [
    "plt.title(f'R2: {str(score_mlp)[:5]}')\n",
    "plt.hist(y_pred.reshape(1, -1)[0], bins=100, label='PREDICTION')\n",
    "plt.hist(y_test.reshape(1, -1)[0], bins=100, label='GT')\n",
    "plt.legend()\n",
    "plt.grid()"
   ]
  },
  {
   "cell_type": "code",
   "execution_count": null,
   "id": "cb172c86",
   "metadata": {},
   "outputs": [
    {
     "data": {
      "image/png": "[encoded data removed]",
      "text/plain": [
       "<Figure size 640x480 with 1 Axes>"
      ]
     },
     "metadata": {},
     "output_type": "display_data"
    }
   ],
   "source": [
    "plt.plot(losses_mlp)\n",
    "plt.show()"
   ]
  },
  {
   "cell_type": "code",
   "execution_count": null,
   "id": "7d9fa4db",
   "metadata": {},
   "outputs": [
    {
     "name": "stdout",
     "output_type": "stream",
     "text": [
      "[31522083.60756697, 31522389.4970181, 31522695.1347057, 31523000.534271214, 31523305.709365398, 31523610.673647843, 31523915.44078645, 31524220.024456937, 31524524.438342355, 31524828.696132634, 31525132.811524086, 31525436.798218958, 31525740.66992498, 31526044.440354902, 31526348.1232261, 31526651.732260045, 31526955.28118194, 31527258.783720285, 31527562.253606405, 31527865.704574075, 31528169.150359046, 31528472.604698665, 31528776.08133143, 31529079.593996566, 31529383.15643362, 31529686.782381997, 31529990.485580593, 31530294.279767323, 31530598.17867869, 31530902.196049385, 31531206.345611818, 31531510.64109568, 31531815.09622751, 31532119.72473023, 31532424.54032269, 31532729.556719206, 31533034.787629068, 31533340.24675608, 31533645.94779808, 31533951.904446404, 31534258.130385417, 31534564.63929195, 31534871.444834843, 31535178.56067434, 31535486.000461545, 31535793.777837902, 31536101.906434588, 31536410.399871927, 31536719.271758776, 31537028.53569194, 31537338.205255512, 31537648.29402024, 31537958.81554286, 31538269.783365414, 31538581.211014573, 31538893.112000898, 31539205.499818128, 31539518.38794244, 31539831.789831653, 31540145.718924478, 31540460.18863967, 31540775.212375265, 31541090.803507686, 31541406.975390885, 31541723.74135548, 31542041.114707828, 31542359.108729105, 31542677.73667436, 31542997.01177152, 31543316.94722043, 31543637.5561918, 31543958.85182618, 31544280.847232893, 31544603.555488978, 31544926.989637982, 31545251.162688956, 31545576.08761517, 31545901.77735301, 31546228.24480073, 31546555.502817217, 31546883.564220753, 31547212.441787675, 31547542.14825114, 31547872.696299717, 31548204.09857607, 31548536.367675535, 31548869.51614473, 31549203.556480113, 31549538.501126494, 31549874.36247558, 31550211.15286441, 31550548.88457386, 31550887.569827043, 31551227.220787738, 31551567.849558767, 31551909.468180314, 31552252.08862832, 31552595.722812757, 31552940.38257591, 31553286.07969066]\n"
     ]
    },
    {
     "data": {
      "text/plain": [
       "31553286.07969066"
      ]
     },
     "execution_count": 951,
     "metadata": {},
     "output_type": "execute_result"
    }
   ],
   "source": [
    "print(losses_mlp)\n",
    "losses_mlp[-1]"
   ]
  }
 ],
 "metadata": {
  "kernelspec": {
   "display_name": "Python 3",
   "language": "python",
   "name": "python3"
  },
  "language_info": {
   "codemirror_mode": {
    "name": "ipython",
    "version": 3
   },
   "file_extension": ".py",
   "mimetype": "text/x-python",
   "name": "python",
   "nbconvert_exporter": "python",
   "pygments_lexer": "ipython3",
   "version": "3.10.12"
  }
 },
 "nbformat": 4,
 "nbformat_minor": 5
}
