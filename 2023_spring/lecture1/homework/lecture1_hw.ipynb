{
 "cells": [
  {
   "cell_type": "code",
   "execution_count": null,
   "id": "8cc148dc-d83d-4c32-bbb0-3ffd82ba4e98",
   "metadata": {
    "is_executing": true
   },
   "outputs": [],
   "source": [
    "import numpy as np\n",
    "import pandas as pd\n",
    "import matplotlib.pyplot as plt\n",
    "\n",
    "from sklearn.linear_model import LinearRegression\n",
    "from sklearn.model_selection import train_test_split\n",
    "from sklearn.metrics import r2_score\n",
    "from sklearn.preprocessing import MinMaxScaler\n",
    "import pdb\n",
    "\n",
    "%matplotlib inline"
   ]
  },
  {
   "cell_type": "markdown",
   "id": "e3a06e1e-3bc0-4667-84f3-7e86698c3737",
   "metadata": {},
   "source": [
    "# Загружаем выборку Diamonds"
   ]
  },
  {
   "cell_type": "markdown",
   "id": "c731a143-3dc9-43e7-96f5-b1eff9093345",
   "metadata": {},
   "source": [
    "1. PRICE: price in US dollars (326-18,823)\n",
    "2. CARAT: weight of the diamond (0.2--5.01)\n",
    "3. CUT: quality of the cut (Fair, Good, Very Good, Premium, Ideal)\n",
    "4. COLOR: diamond colour, from J (worst) to D (best)\n",
    "5. CLARITY: a measurement of how clear the diamond is (I1 (worst), SI2, SI1, VS2, VS1, VVS2, VVS1, IF (best))\n",
    "6. X: length in mm (0--10.74)\n",
    "7. Y: width in mm (0--58.9)\n",
    "8. Z: depth in mm (0--31.8)\n",
    "9. DEPTH: total depth percentage = z / mean(x, y) = 2 * z / (x + y) (43--79)\n",
    "10. TABLE: width of top of diamond relative to widest point (43--95)"
   ]
  },
  {
   "cell_type": "code",
   "execution_count": 2,
   "id": "0f24cf86-653a-422b-9df1-8029fdccf153",
   "metadata": {},
   "outputs": [],
   "source": [
    "diamonds_df = pd.read_csv('diamonds.csv')"
   ]
  },
  {
   "cell_type": "code",
   "execution_count": 3,
   "id": "70d9ccfe-e1cf-4c90-a5ab-40ae0852f1ce",
   "metadata": {},
   "outputs": [
    {
     "data": {
      "text/html": [
       "<div>\n",
       "<style scoped>\n",
       "    .dataframe tbody tr th:only-of-type {\n",
       "        vertical-align: middle;\n",
       "    }\n",
       "\n",
       "    .dataframe tbody tr th {\n",
       "        vertical-align: top;\n",
       "    }\n",
       "\n",
       "    .dataframe thead th {\n",
       "        text-align: right;\n",
       "    }\n",
       "</style>\n",
       "<table border=\"1\" class=\"dataframe\">\n",
       "  <thead>\n",
       "    <tr style=\"text-align: right;\">\n",
       "      <th></th>\n",
       "      <th>Unnamed: 0</th>\n",
       "      <th>carat</th>\n",
       "      <th>cut</th>\n",
       "      <th>color</th>\n",
       "      <th>clarity</th>\n",
       "      <th>depth</th>\n",
       "      <th>table</th>\n",
       "      <th>price</th>\n",
       "      <th>x</th>\n",
       "      <th>y</th>\n",
       "      <th>z</th>\n",
       "    </tr>\n",
       "  </thead>\n",
       "  <tbody>\n",
       "    <tr>\n",
       "      <th>0</th>\n",
       "      <td>1</td>\n",
       "      <td>0.23</td>\n",
       "      <td>Ideal</td>\n",
       "      <td>E</td>\n",
       "      <td>SI2</td>\n",
       "      <td>61.5</td>\n",
       "      <td>55.0</td>\n",
       "      <td>326</td>\n",
       "      <td>3.95</td>\n",
       "      <td>3.98</td>\n",
       "      <td>2.43</td>\n",
       "    </tr>\n",
       "    <tr>\n",
       "      <th>1</th>\n",
       "      <td>2</td>\n",
       "      <td>0.21</td>\n",
       "      <td>Premium</td>\n",
       "      <td>E</td>\n",
       "      <td>SI1</td>\n",
       "      <td>59.8</td>\n",
       "      <td>61.0</td>\n",
       "      <td>326</td>\n",
       "      <td>3.89</td>\n",
       "      <td>3.84</td>\n",
       "      <td>2.31</td>\n",
       "    </tr>\n",
       "    <tr>\n",
       "      <th>2</th>\n",
       "      <td>3</td>\n",
       "      <td>0.23</td>\n",
       "      <td>Good</td>\n",
       "      <td>E</td>\n",
       "      <td>VS1</td>\n",
       "      <td>56.9</td>\n",
       "      <td>65.0</td>\n",
       "      <td>327</td>\n",
       "      <td>4.05</td>\n",
       "      <td>4.07</td>\n",
       "      <td>2.31</td>\n",
       "    </tr>\n",
       "    <tr>\n",
       "      <th>3</th>\n",
       "      <td>4</td>\n",
       "      <td>0.29</td>\n",
       "      <td>Premium</td>\n",
       "      <td>I</td>\n",
       "      <td>VS2</td>\n",
       "      <td>62.4</td>\n",
       "      <td>58.0</td>\n",
       "      <td>334</td>\n",
       "      <td>4.20</td>\n",
       "      <td>4.23</td>\n",
       "      <td>2.63</td>\n",
       "    </tr>\n",
       "    <tr>\n",
       "      <th>4</th>\n",
       "      <td>5</td>\n",
       "      <td>0.31</td>\n",
       "      <td>Good</td>\n",
       "      <td>J</td>\n",
       "      <td>SI2</td>\n",
       "      <td>63.3</td>\n",
       "      <td>58.0</td>\n",
       "      <td>335</td>\n",
       "      <td>4.34</td>\n",
       "      <td>4.35</td>\n",
       "      <td>2.75</td>\n",
       "    </tr>\n",
       "  </tbody>\n",
       "</table>\n",
       "</div>"
      ],
      "text/plain": [
       "   Unnamed: 0  carat      cut color clarity  depth  table  price     x     y  \\\n",
       "0           1   0.23    Ideal     E     SI2   61.5   55.0    326  3.95  3.98   \n",
       "1           2   0.21  Premium     E     SI1   59.8   61.0    326  3.89  3.84   \n",
       "2           3   0.23     Good     E     VS1   56.9   65.0    327  4.05  4.07   \n",
       "3           4   0.29  Premium     I     VS2   62.4   58.0    334  4.20  4.23   \n",
       "4           5   0.31     Good     J     SI2   63.3   58.0    335  4.34  4.35   \n",
       "\n",
       "      z  \n",
       "0  2.43  \n",
       "1  2.31  \n",
       "2  2.31  \n",
       "3  2.63  \n",
       "4  2.75  "
      ]
     },
     "execution_count": 3,
     "metadata": {},
     "output_type": "execute_result"
    }
   ],
   "source": [
    "diamonds_df.head()"
   ]
  },
  {
   "cell_type": "code",
   "execution_count": 4,
   "id": "fad21c95-f542-44ec-8f06-8f57fd42ddef",
   "metadata": {
    "is_executing": true
   },
   "outputs": [
    {
     "data": {
      "image/png": "[encoded data removed]",
      "text/plain": [
       "<Figure size 640x480 with 1 Axes>"
      ]
     },
     "metadata": {},
     "output_type": "display_data"
    }
   ],
   "source": [
    "plt.hist(diamonds_df['price'], bins=100)\n",
    "plt.grid();"
   ]
  },
  {
   "cell_type": "markdown",
   "id": "17ac44bb-86c7-424a-8b9b-0a21bf490683",
   "metadata": {},
   "source": [
    "# Подготовка данных"
   ]
  },
  {
   "cell_type": "code",
   "execution_count": 5,
   "id": "e19945ea-cecf-481e-a28b-3f9c11001918",
   "metadata": {
    "is_executing": true
   },
   "outputs": [],
   "source": [
    "features = ['carat', 'cut', 'color', 'clarity', 'depth', 'table', 'x', 'y', 'z']\n",
    "target = ['price']"
   ]
  },
  {
   "cell_type": "code",
   "execution_count": 6,
   "metadata": {
    "collapsed": false,
    "is_executing": true
   },
   "outputs": [
    {
     "name": "stdout",
     "output_type": "stream",
     "text": [
      "[1, 2]\n"
     ]
    }
   ],
   "source": [
    "print([1,2])"
   ]
  },
  {
   "cell_type": "code",
   "execution_count": 7,
   "id": "fbc43eb0-e77f-4765-8b0e-b9052c093855",
   "metadata": {},
   "outputs": [],
   "source": [
    "cut_transform = {'Fair': 0, 'Good': 1, 'Very Good': 2, 'Premium': 3, 'Ideal': 4}\n",
    "clarity_transform = {'I1': 0, 'SI2': 1, 'SI1': 2, 'VS2': 3, 'VS1': 4, 'VVS2': 5, 'VVS1': 6, 'IF': 7}\n",
    "color_transorm = {'D': 0, 'E': 1, 'F': 2, 'G': 3, 'H': 4, 'I': 5, 'J': 6}"
   ]
  },
  {
   "cell_type": "code",
   "execution_count": 8,
   "id": "6f82b34f-9ffc-478f-a103-b2cbbca49a94",
   "metadata": {},
   "outputs": [],
   "source": [
    "diamonds_df['cut'] = diamonds_df['cut'].apply(lambda x: cut_transform.get(x))\n",
    "diamonds_df['color'] = diamonds_df['color'].apply(lambda x: color_transorm.get(x))\n",
    "diamonds_df['clarity'] = diamonds_df['clarity'].apply(lambda x: clarity_transform.get(x))"
   ]
  },
  {
   "cell_type": "code",
   "execution_count": 9,
   "id": "0d9b6e3b",
   "metadata": {},
   "outputs": [
    {
     "data": {
      "text/html": [
       "<div>\n",
       "<style scoped>\n",
       "    .dataframe tbody tr th:only-of-type {\n",
       "        vertical-align: middle;\n",
       "    }\n",
       "\n",
       "    .dataframe tbody tr th {\n",
       "        vertical-align: top;\n",
       "    }\n",
       "\n",
       "    .dataframe thead th {\n",
       "        text-align: right;\n",
       "    }\n",
       "</style>\n",
       "<table border=\"1\" class=\"dataframe\">\n",
       "  <thead>\n",
       "    <tr style=\"text-align: right;\">\n",
       "      <th></th>\n",
       "      <th>Unnamed: 0</th>\n",
       "      <th>carat</th>\n",
       "      <th>cut</th>\n",
       "      <th>color</th>\n",
       "      <th>clarity</th>\n",
       "      <th>depth</th>\n",
       "      <th>table</th>\n",
       "      <th>price</th>\n",
       "      <th>x</th>\n",
       "      <th>y</th>\n",
       "      <th>z</th>\n",
       "    </tr>\n",
       "  </thead>\n",
       "  <tbody>\n",
       "    <tr>\n",
       "      <th>0</th>\n",
       "      <td>1</td>\n",
       "      <td>0.23</td>\n",
       "      <td>4</td>\n",
       "      <td>1</td>\n",
       "      <td>1</td>\n",
       "      <td>61.5</td>\n",
       "      <td>55.0</td>\n",
       "      <td>326</td>\n",
       "      <td>3.95</td>\n",
       "      <td>3.98</td>\n",
       "      <td>2.43</td>\n",
       "    </tr>\n",
       "    <tr>\n",
       "      <th>1</th>\n",
       "      <td>2</td>\n",
       "      <td>0.21</td>\n",
       "      <td>3</td>\n",
       "      <td>1</td>\n",
       "      <td>2</td>\n",
       "      <td>59.8</td>\n",
       "      <td>61.0</td>\n",
       "      <td>326</td>\n",
       "      <td>3.89</td>\n",
       "      <td>3.84</td>\n",
       "      <td>2.31</td>\n",
       "    </tr>\n",
       "    <tr>\n",
       "      <th>2</th>\n",
       "      <td>3</td>\n",
       "      <td>0.23</td>\n",
       "      <td>1</td>\n",
       "      <td>1</td>\n",
       "      <td>4</td>\n",
       "      <td>56.9</td>\n",
       "      <td>65.0</td>\n",
       "      <td>327</td>\n",
       "      <td>4.05</td>\n",
       "      <td>4.07</td>\n",
       "      <td>2.31</td>\n",
       "    </tr>\n",
       "    <tr>\n",
       "      <th>3</th>\n",
       "      <td>4</td>\n",
       "      <td>0.29</td>\n",
       "      <td>3</td>\n",
       "      <td>5</td>\n",
       "      <td>3</td>\n",
       "      <td>62.4</td>\n",
       "      <td>58.0</td>\n",
       "      <td>334</td>\n",
       "      <td>4.20</td>\n",
       "      <td>4.23</td>\n",
       "      <td>2.63</td>\n",
       "    </tr>\n",
       "    <tr>\n",
       "      <th>4</th>\n",
       "      <td>5</td>\n",
       "      <td>0.31</td>\n",
       "      <td>1</td>\n",
       "      <td>6</td>\n",
       "      <td>1</td>\n",
       "      <td>63.3</td>\n",
       "      <td>58.0</td>\n",
       "      <td>335</td>\n",
       "      <td>4.34</td>\n",
       "      <td>4.35</td>\n",
       "      <td>2.75</td>\n",
       "    </tr>\n",
       "  </tbody>\n",
       "</table>\n",
       "</div>"
      ],
      "text/plain": [
       "   Unnamed: 0  carat  cut  color  clarity  depth  table  price     x     y  \\\n",
       "0           1   0.23    4      1        1   61.5   55.0    326  3.95  3.98   \n",
       "1           2   0.21    3      1        2   59.8   61.0    326  3.89  3.84   \n",
       "2           3   0.23    1      1        4   56.9   65.0    327  4.05  4.07   \n",
       "3           4   0.29    3      5        3   62.4   58.0    334  4.20  4.23   \n",
       "4           5   0.31    1      6        1   63.3   58.0    335  4.34  4.35   \n",
       "\n",
       "      z  \n",
       "0  2.43  \n",
       "1  2.31  \n",
       "2  2.31  \n",
       "3  2.63  \n",
       "4  2.75  "
      ]
     },
     "execution_count": 9,
     "metadata": {},
     "output_type": "execute_result"
    }
   ],
   "source": [
    "diamonds_df.head()"
   ]
  },
  {
   "cell_type": "code",
   "execution_count": 10,
   "id": "8e5fa82b-92ed-4e79-adf2-422204b45e82",
   "metadata": {},
   "outputs": [],
   "source": [
    "X = diamonds_df[features].copy().values\n",
    "y = diamonds_df[target].values"
   ]
  },
  {
   "cell_type": "code",
   "execution_count": 11,
   "id": "baafcd96-b32e-469e-b354-fa0aba09db8f",
   "metadata": {},
   "outputs": [],
   "source": [
    "scaler = MinMaxScaler()\n",
    "X = scaler.fit_transform(X)"
   ]
  },
  {
   "cell_type": "code",
   "execution_count": 12,
   "id": "64c11d68-dc5c-4753-9cc4-3cc4e136f3cb",
   "metadata": {},
   "outputs": [],
   "source": [
    "X_train, X_test, y_train, y_test = train_test_split(X, y, random_state=47, test_size=0.3)"
   ]
  },
  {
   "cell_type": "markdown",
   "id": "3b743ed1-d0cf-485d-b8f2-8c71fc174e8b",
   "metadata": {},
   "source": [
    "# Обучаем модель линейной регрессии"
   ]
  },
  {
   "cell_type": "code",
   "execution_count": 13,
   "id": "0068e36f-040e-4aa3-bb06-88aa95051478",
   "metadata": {},
   "outputs": [],
   "source": [
    "reg = LinearRegression().fit(X_train, y_train)"
   ]
  },
  {
   "cell_type": "code",
   "execution_count": 14,
   "id": "f968e336-4049-41b2-81d1-4c24f0969bbb",
   "metadata": {},
   "outputs": [],
   "source": [
    "y_pred = reg.predict(X_test)"
   ]
  },
  {
   "cell_type": "code",
   "execution_count": 15,
   "id": "0952990a-b3d6-4da4-9cc6-1ab3a7a25ac7",
   "metadata": {},
   "outputs": [],
   "source": [
    "score = r2_score(y_pred, y_test)"
   ]
  },
  {
   "cell_type": "code",
   "execution_count": 16,
   "id": "f89c3bbd-0a3a-48ac-b1ab-b75dc0c5bcce",
   "metadata": {},
   "outputs": [
    {
     "data": {
      "image/png": "[encoded data removed]",
      "text/plain": [
       "<Figure size 640x480 with 1 Axes>"
      ]
     },
     "metadata": {},
     "output_type": "display_data"
    }
   ],
   "source": [
    "plt.title(f'R2: {str(score)[:5]}')\n",
    "plt.hist(y_pred.reshape(1, -1)[0], bins=100, label='PREDICTION')\n",
    "plt.hist(y_test.reshape(1, -1)[0], bins=100, label='GT')\n",
    "plt.legend()\n",
    "plt.grid();"
   ]
  },
  {
   "cell_type": "markdown",
   "id": "7886f8b7-ba2e-4fde-8b91-f815ea961fe5",
   "metadata": {},
   "source": [
    "# Создаём модель MLP для задачи регрессии"
   ]
  },
  {
   "cell_type": "code",
   "execution_count": 17,
   "id": "061fbe90",
   "metadata": {},
   "outputs": [],
   "source": [
    "class SigmoidLayer:\n",
    "    def __init__(self) -> None:\n",
    "        pass\n",
    "    def forward(self,X):\n",
    "        self.y = 1/(1 + np.exp(-X))\n",
    "        return self.y\n",
    "    def backward(self,dLdy):\n",
    "        return dLdy * self.y * (1 - self.y)\n",
    "    def step(self):\n",
    "        pass"
   ]
  },
  {
   "cell_type": "code",
   "execution_count": 334,
   "id": "51b7ef93-763a-4617-98e4-c2c98e2a12a5",
   "metadata": {},
   "outputs": [],
   "source": [
    "class LinearLayer:\n",
    "    def __init__(self, input_size,output_size,l_r):\n",
    "        self.W = np.ones((input_size,output_size)) * 0.01\n",
    "        self.b = np.zeros((output_size)) * 0.01\n",
    "        self.l_r = l_r\n",
    "        \n",
    "    \n",
    "    def forward(self, X):\n",
    "        self.X = X\n",
    "        #print(X.shape, self.W.shape)\n",
    "        self.Y = X @ self.W + self.b\n",
    "        return self.Y\n",
    "    \n",
    "    def backward(self, dLdy):\n",
    "        dydw = self.W\n",
    "        #X [N,input,1]\n",
    "        #dLdy [N,1,output]\n",
    "        #print('before = ',self.X.shape,dLdy.shape)\n",
    "        self.dLdw = self.X.T @  dLdy # Because it is 3D matrix\n",
    "        #print('after = ',np.expand_dims(self.X, -1).shape,np.expand_dims(dLdy, -2).shape)\n",
    "        #print('dLdw = ',self.dLdw)\n",
    "        #pdb.set_trace()\n",
    "\n",
    "        \n",
    "        self.dLdb = dLdy # as dy/db == 1\n",
    "          \n",
    "        if len(self.dLdw.shape) > 2:\n",
    "                self.dLdw = self.dLdw.sum(axis=0)\n",
    "        if len(self.dLdb) > 1:\n",
    "             self.dLdb = self.dLdb.sum(axis=0)\n",
    "        #pdb.set_trace()\n",
    "        dLdx = dLdy @ self.W.T\n",
    "        #print('dLdx=',dLdx)\n",
    "        return dLdx\n",
    "    def step(self):\n",
    "        self.W -= self.dLdw * self.l_r\n",
    "        self.b -= self.dLdb * self.l_r"
   ]
  },
  {
   "cell_type": "code",
   "execution_count": null,
   "id": "58545528",
   "metadata": {},
   "outputs": [],
   "source": []
  },
  {
   "cell_type": "code",
   "execution_count": 335,
   "id": "a28cf88a",
   "metadata": {},
   "outputs": [
    {
     "data": {
      "text/plain": [
       "array([[ 9. ,  9. ],\n",
       "       [12.3, 12.3],\n",
       "       [14.7, 14.7]])"
      ]
     },
     "execution_count": 335,
     "metadata": {},
     "output_type": "execute_result"
    }
   ],
   "source": [
    "def check_gradient(f,x,eps = 1e-6):\n",
    "    y = np.ones(x.shape)\n",
    "    for i in range(x.shape[0]):\n",
    "            if (len(x.shape) > 1):\n",
    "                for j in range(x.shape[1]):\n",
    "                    x[i,j] += eps\n",
    "                    f_plus = f(x)\n",
    "                    x[i][j] -= 2 * eps\n",
    "                    f_minus = f(x)\n",
    "                    x[i][j] += eps\n",
    "\n",
    "                    y[i][j] = (f_plus - f_minus) / (2 * eps)\n",
    "            else:\n",
    "                    x[i] += eps\n",
    "                    f_plus = f(x)\n",
    "                    x[i] -= 2 * eps\n",
    "                    f_minus = f(x)\n",
    "                    x[i] += eps\n",
    "\n",
    "                    y[i] = (f_plus - f_minus) / (2 * eps)\n",
    "    return y\n",
    "\n",
    "test_x = np.array([[1.2, 3.4, 5.6],[7.8,8.9,9.1]])\n",
    "linearTest = LinearLayer(3,2,0.1)\n",
    "linearTest.forward(test_x)\n",
    "def f(W,x=test_x):\n",
    "      return linearTest.forward(x).sum()\n",
    "    \n",
    "check_gradient(f, linearTest.W)"
   ]
  },
  {
   "cell_type": "code",
   "execution_count": 336,
   "id": "d406c9b2",
   "metadata": {},
   "outputs": [
    {
     "name": "stdout",
     "output_type": "stream",
     "text": [
      "[ 9.  12.3 14.7]\n"
     ]
    }
   ],
   "source": [
    "\n",
    "linearTest.backward(np.ones(2))\n",
    "print(linearTest.dLdw)"
   ]
  },
  {
   "cell_type": "code",
   "execution_count": 337,
   "id": "ec510ef0",
   "metadata": {},
   "outputs": [],
   "source": [
    "class MSELOSS:\n",
    "    def __init__(self) -> None:\n",
    "        pass\n",
    "    def forward(self,y,y_res):\n",
    "        self.n = y.shape[0]\n",
    "        #print(y.shape,y_res.shape)\n",
    "        self.diff = y - y_res\n",
    "        #print(self.diff.shape)\n",
    "        self.L = (self.diff ** 2).mean()\n",
    "        return self.L\n",
    "    def backward(self):\n",
    "        dLdy =   (-1 / self.n) * (2 * self.diff)\n",
    "        return dLdy\n"
   ]
  },
  {
   "cell_type": "code",
   "execution_count": 338,
   "id": "ed7a7dcc",
   "metadata": {},
   "outputs": [],
   "source": [
    "class R2LOSS:\n",
    "    def __init__(self) -> None:\n",
    "        pass\n",
    "    def forward(self,y,y_res):\n",
    "        self.n = y.shape[0]\n",
    "        self.diff = y - y_res \n",
    "        self.L = 1 - ( y - y_res) ** 2\n",
    "        return self.L\n",
    "    def backward(self):\n",
    "        dLdy =   (1 / self.n) * (2 * self.diff)\n",
    "        return dLdy"
   ]
  },
  {
   "cell_type": "code",
   "execution_count": 339,
   "id": "83f67b24",
   "metadata": {},
   "outputs": [],
   "source": [
    "class MLPRegressor:\n",
    "    def __init__(\n",
    "        self,\n",
    "        hidden_layer_sizes=(100,100),\n",
    "        learning_rate=1e-6,\n",
    "        max_iter=100,\n",
    "        layers = None,\n",
    "        loss = None\n",
    "    ):\n",
    "        self.learning_rate = learning_rate\n",
    "        self.max_iter = max_iter\n",
    "        self.hidden_layer_sizes = hidden_layer_sizes\n",
    "        self.layers = layers\n",
    "        self.loss = loss\n",
    "        if (self.layers == None):\n",
    "            self.layers = []\n",
    "            layer_size = hidden_layer_sizes[1]\n",
    "            for i in range(hidden_layer_sizes[0]): #layersCount\n",
    "                self.layers.append(LinearLayer(layer_size,layer_size,learning_rate))\n",
    "                self.layers.append(SigmoidLayer())\n",
    "        self.layers.append(LinearLayer(layer_size,1,learning_rate))\n",
    "        if (self.loss == None):\n",
    "            self.loss = MSELOSS()\n",
    "    \n",
    "    def train(self, X, y):\n",
    "        losses = []\n",
    "        saved_X = X\n",
    "        for i in range(self.max_iter):\n",
    "            X = saved_X\n",
    "            for layer in self.layers:\n",
    "                X = layer.forward(X)\n",
    "                #print(f'X =={X}',X)\n",
    "                \n",
    "            L = self.loss.forward(X,y) # On last interation the input will be the result\n",
    "            #print('L_shape=',L.shape)\n",
    "            losses.append(L)\n",
    "            dLdy = self.loss.backward() \n",
    "            #dLdy = L\n",
    "            #print('shape.loss==',dLdy.shape)\n",
    "            for layer in self.layers[::-1]:\n",
    "                dLdy = layer.backward(dLdy)\n",
    "\n",
    "            for layer in self.layers:\n",
    "                layer.step()\n",
    "        return losses\n",
    "\n",
    "    def predict(self, X):\n",
    "        for layer in self.layers:\n",
    "                X = layer.forward(X)\n",
    "        return X"
   ]
  },
  {
   "cell_type": "code",
   "execution_count": 340,
   "id": "1d3e89ba",
   "metadata": {},
   "outputs": [
    {
     "data": {
      "text/plain": [
       "array([[-7.11065104e-03],\n",
       "       [-1.09046393e-02],\n",
       "       [ 5.56307457e-03],\n",
       "       [-1.05997884e-02],\n",
       "       [-9.53355093e-03],\n",
       "       [ 3.38222372e-03],\n",
       "       [-2.44282942e-02],\n",
       "       [-2.04790643e-02],\n",
       "       [ 7.63875074e-07],\n",
       "       [ 9.43422514e-03],\n",
       "       [-1.55368694e-03],\n",
       "       [-1.89877686e-02],\n",
       "       [-1.00772758e-02],\n",
       "       [-4.69532314e-03],\n",
       "       [-1.02295037e-02],\n",
       "       [ 1.50783643e-02],\n",
       "       [ 1.59496844e-02],\n",
       "       [-2.88615160e-04],\n",
       "       [-1.65369395e-02],\n",
       "       [-5.66259759e-03],\n",
       "       [ 9.61873664e-03],\n",
       "       [ 3.55237555e-02],\n",
       "       [ 5.77246549e-03],\n",
       "       [ 2.52112126e-02],\n",
       "       [-3.40544182e-03],\n",
       "       [-4.97368262e-03],\n",
       "       [-9.79668166e-04],\n",
       "       [-2.27577729e-02],\n",
       "       [ 1.86510141e-02],\n",
       "       [-5.43946055e-04],\n",
       "       [ 4.84900478e-03],\n",
       "       [ 2.35798020e-02],\n",
       "       [ 2.00152897e-02],\n",
       "       [-8.71337244e-03],\n",
       "       [-1.53088030e-02],\n",
       "       [ 2.36807213e-04],\n",
       "       [-9.44275297e-03],\n",
       "       [ 1.30570920e-02],\n",
       "       [-1.96861791e-02],\n",
       "       [ 8.19956100e-03],\n",
       "       [ 1.21497734e-02],\n",
       "       [ 3.56084343e-03],\n",
       "       [-5.96456493e-03],\n",
       "       [ 1.77829276e-02],\n",
       "       [-2.11945457e-02],\n",
       "       [-3.29562513e-02],\n",
       "       [ 1.02988365e-03],\n",
       "       [ 1.68725350e-02],\n",
       "       [ 1.31295923e-03],\n",
       "       [-2.29341939e-02]])"
      ]
     },
     "execution_count": 340,
     "metadata": {},
     "output_type": "execute_result"
    }
   ],
   "source": [
    "TestMSELOSS = MSELOSS()\n",
    "chosen_size = 50\n",
    "test_y = np.random.rand(chosen_size,1)\n",
    "test_y_res = np.random.rand(chosen_size,1)\n",
    "TestMSELOSS.forward(test_y,test_y_res)\n",
    "def f_loss(W,y=test_y,y_res = test_y_res):\n",
    "      return TestMSELOSS.forward(y,y_res).sum()\n",
    "check_gradient(f_loss, test_y_res)"
   ]
  },
  {
   "cell_type": "code",
   "execution_count": 341,
   "id": "1fc30d02",
   "metadata": {},
   "outputs": [
    {
     "data": {
      "text/plain": [
       "(array([[0.58551176],\n",
       "        [0.99365967],\n",
       "        [0.72996017],\n",
       "        [0.93365651],\n",
       "        [0.3706036 ],\n",
       "        [0.3982722 ],\n",
       "        [0.80736855],\n",
       "        [0.66698678],\n",
       "        [0.33559389],\n",
       "        [0.50209436],\n",
       "        [0.14565585],\n",
       "        [0.49451104],\n",
       "        [0.76941963],\n",
       "        [0.28041212],\n",
       "        [0.2992189 ],\n",
       "        [0.02030193],\n",
       "        [0.45032716],\n",
       "        [0.2502475 ],\n",
       "        [0.69238939],\n",
       "        [0.74408847],\n",
       "        [0.28595451],\n",
       "        [0.07793833],\n",
       "        [0.63754502],\n",
       "        [0.32283024],\n",
       "        [0.51569583],\n",
       "        [0.1463014 ],\n",
       "        [0.62376753],\n",
       "        [0.9119009 ],\n",
       "        [0.532121  ],\n",
       "        [0.81363251],\n",
       "        [0.16727182],\n",
       "        [0.25693738],\n",
       "        [0.42115307],\n",
       "        [0.72092021],\n",
       "        [0.4166211 ],\n",
       "        [0.49394184],\n",
       "        [0.68115383],\n",
       "        [0.5617994 ],\n",
       "        [0.61658654],\n",
       "        [0.53455666],\n",
       "        [0.68910581],\n",
       "        [0.0613962 ],\n",
       "        [0.53032279],\n",
       "        [0.19810686],\n",
       "        [0.60812886],\n",
       "        [0.97429063],\n",
       "        [0.91915651],\n",
       "        [0.29065231],\n",
       "        [0.21392012],\n",
       "        [0.58646586]]),\n",
       " array([[0.40774548],\n",
       "        [0.72104369],\n",
       "        [0.86903704],\n",
       "        [0.6686618 ],\n",
       "        [0.13226482],\n",
       "        [0.48282779],\n",
       "        [0.19666119],\n",
       "        [0.15501017],\n",
       "        [0.33561298],\n",
       "        [0.73794998],\n",
       "        [0.10681368],\n",
       "        [0.01981683],\n",
       "        [0.51748774],\n",
       "        [0.16302904],\n",
       "        [0.0434813 ],\n",
       "        [0.39726104],\n",
       "        [0.84906927],\n",
       "        [0.24303212],\n",
       "        [0.27896591],\n",
       "        [0.60252353],\n",
       "        [0.52642292],\n",
       "        [0.96603221],\n",
       "        [0.78185665],\n",
       "        [0.95311055],\n",
       "        [0.43055978],\n",
       "        [0.02195933],\n",
       "        [0.59927583],\n",
       "        [0.34295658],\n",
       "        [0.99839635],\n",
       "        [0.80003386],\n",
       "        [0.28849694],\n",
       "        [0.84643242],\n",
       "        [0.92153531],\n",
       "        [0.5030859 ],\n",
       "        [0.03390102],\n",
       "        [0.49986202],\n",
       "        [0.44508501],\n",
       "        [0.8882267 ],\n",
       "        [0.12443206],\n",
       "        [0.73954568],\n",
       "        [0.99285014],\n",
       "        [0.15041729],\n",
       "        [0.38120867],\n",
       "        [0.64268005],\n",
       "        [0.07826522],\n",
       "        [0.15038434],\n",
       "        [0.9449036 ],\n",
       "        [0.71246569],\n",
       "        [0.2467441 ],\n",
       "        [0.01311101]]))"
      ]
     },
     "execution_count": 341,
     "metadata": {},
     "output_type": "execute_result"
    }
   ],
   "source": [
    "test_y,test_y_res"
   ]
  },
  {
   "cell_type": "code",
   "execution_count": 342,
   "id": "cc9fa095",
   "metadata": {},
   "outputs": [
    {
     "data": {
      "text/plain": [
       "array([[-7.11065104e-03],\n",
       "       [-1.09046393e-02],\n",
       "       [ 5.56307457e-03],\n",
       "       [-1.05997885e-02],\n",
       "       [-9.53355094e-03],\n",
       "       [ 3.38222372e-03],\n",
       "       [-2.44282942e-02],\n",
       "       [-2.04790643e-02],\n",
       "       [ 7.63880820e-07],\n",
       "       [ 9.43422514e-03],\n",
       "       [-1.55368695e-03],\n",
       "       [-1.89877686e-02],\n",
       "       [-1.00772758e-02],\n",
       "       [-4.69532314e-03],\n",
       "       [-1.02295037e-02],\n",
       "       [ 1.50783643e-02],\n",
       "       [ 1.59496844e-02],\n",
       "       [-2.88615151e-04],\n",
       "       [-1.65369394e-02],\n",
       "       [-5.66259760e-03],\n",
       "       [ 9.61873663e-03],\n",
       "       [ 3.55237555e-02],\n",
       "       [ 5.77246550e-03],\n",
       "       [ 2.52112126e-02],\n",
       "       [-3.40544181e-03],\n",
       "       [-4.97368262e-03],\n",
       "       [-9.79668155e-04],\n",
       "       [-2.27577729e-02],\n",
       "       [ 1.86510141e-02],\n",
       "       [-5.43946051e-04],\n",
       "       [ 4.84900479e-03],\n",
       "       [ 2.35798020e-02],\n",
       "       [ 2.00152897e-02],\n",
       "       [-8.71337243e-03],\n",
       "       [-1.53088030e-02],\n",
       "       [ 2.36807214e-04],\n",
       "       [-9.44275296e-03],\n",
       "       [ 1.30570920e-02],\n",
       "       [-1.96861791e-02],\n",
       "       [ 8.19956100e-03],\n",
       "       [ 1.21497733e-02],\n",
       "       [ 3.56084342e-03],\n",
       "       [-5.96456494e-03],\n",
       "       [ 1.77829276e-02],\n",
       "       [-2.11945457e-02],\n",
       "       [-3.29562513e-02],\n",
       "       [ 1.02988366e-03],\n",
       "       [ 1.68725351e-02],\n",
       "       [ 1.31295922e-03],\n",
       "       [-2.29342339e-02]])"
      ]
     },
     "execution_count": 342,
     "metadata": {},
     "output_type": "execute_result"
    }
   ],
   "source": [
    "TestMSELOSS.backward()"
   ]
  },
  {
   "cell_type": "code",
   "execution_count": 343,
   "id": "0e4d6230-d770-480d-a2d8-8278796fc5b5",
   "metadata": {},
   "outputs": [
    {
     "data": {
      "text/plain": [
       "9"
      ]
     },
     "execution_count": 343,
     "metadata": {},
     "output_type": "execute_result"
    }
   ],
   "source": [
    "len(features)"
   ]
  },
  {
   "cell_type": "markdown",
   "id": "2afb2d95-c521-406d-b601-0baf84cb4a54",
   "metadata": {},
   "source": [
    "# Проверяем модель MLP на выборке Diamonds"
   ]
  },
  {
   "cell_type": "code",
   "execution_count": null,
   "id": "44174c1b",
   "metadata": {},
   "outputs": [],
   "source": [
    "\n"
   ]
  },
  {
   "cell_type": "code",
   "execution_count": 344,
   "id": "f445cb37",
   "metadata": {},
   "outputs": [],
   "source": [
    "mlpRegressorTest = MLPRegressor(hidden_layer_sizes=(1,2))\n",
    "a = np.array([[1.2,3.2],[3.4,5.6]])\n",
    "b = np.array([1.3,2.3]).reshape(-1,1)"
   ]
  },
  {
   "cell_type": "code",
   "execution_count": 345,
   "id": "a4a5c757",
   "metadata": {},
   "outputs": [
    {
     "name": "stdout",
     "output_type": "stream",
     "text": [
      "[[0.01 0.01]\n",
      " [0.01 0.01]]\n"
     ]
    }
   ],
   "source": [
    "print(mlpRegressorTest.layers[0].W)\n",
    "#mlpRegressorTest.layers[0].dLdw"
   ]
  },
  {
   "cell_type": "code",
   "execution_count": 346,
   "id": "fb803b37",
   "metadata": {},
   "outputs": [
    {
     "data": {
      "text/plain": [
       "[3.4527865661077355,\n",
       " 3.4528062670694046,\n",
       " 3.45282596814841,\n",
       " 3.452845669344753,\n",
       " 3.4528653706584347,\n",
       " 3.4528850720894564,\n",
       " 3.45290477363782,\n",
       " 3.4529244753035253,\n",
       " 3.4529441770865756,\n",
       " 3.452963878986972,\n",
       " 3.4529835810047143,\n",
       " 3.453003283139805,\n",
       " 3.453022985392245,\n",
       " 3.4530426877620366,\n",
       " 3.4530623902491797,\n",
       " 3.4530820928536756,\n",
       " 3.4531017955755274,\n",
       " 3.4531214984147356,\n",
       " 3.4531412013713,\n",
       " 3.453160904445225,\n",
       " 3.453180607636508,\n",
       " 3.4532003109451543,\n",
       " 3.4532200143711624,\n",
       " 3.4532397179145353,\n",
       " 3.453259421575274,\n",
       " 3.453279125353378,\n",
       " 3.453298829248851,\n",
       " 3.453318533261694,\n",
       " 3.453338237391908,\n",
       " 3.4533579416394935,\n",
       " 3.4533776460044523,\n",
       " 3.4533973504867856,\n",
       " 3.453417055086496,\n",
       " 3.453436759803584,\n",
       " 3.453456464638051,\n",
       " 3.453476169589898,\n",
       " 3.4534958746591253,\n",
       " 3.453515579845737,\n",
       " 3.453535285149732,\n",
       " 3.4535549905711127,\n",
       " 3.4535746961098805,\n",
       " 3.4535944017660363,\n",
       " 3.453614107539581,\n",
       " 3.4536338134305176,\n",
       " 3.4536535194388467,\n",
       " 3.4536732255645686,\n",
       " 3.4536929318076854,\n",
       " 3.453712638168198,\n",
       " 3.4537323446461086,\n",
       " 3.453752051241418,\n",
       " 3.4537717579541276,\n",
       " 3.4537914647842385,\n",
       " 3.4538111717317523,\n",
       " 3.4538308787966714,\n",
       " 3.453850585978995,\n",
       " 3.4538702932787255,\n",
       " 3.453890000695864,\n",
       " 3.4539097082304133,\n",
       " 3.4539294158823717,\n",
       " 3.4539491236517437,\n",
       " 3.4539688315385284,\n",
       " 3.4539885395427286,\n",
       " 3.454008247664345,\n",
       " 3.4540279559033786,\n",
       " 3.4540476642598317,\n",
       " 3.4540673727337046,\n",
       " 3.4540870813249986,\n",
       " 3.4541067900337157,\n",
       " 3.4541264988598575,\n",
       " 3.454146207803425,\n",
       " 3.454165916864419,\n",
       " 3.4541856260428414,\n",
       " 3.4542053353386937,\n",
       " 3.454225044751976,\n",
       " 3.454244754282691,\n",
       " 3.4542644639308397,\n",
       " 3.4542841736964234,\n",
       " 3.4543038835794433,\n",
       " 3.4543235935799013,\n",
       " 3.4543433036977973,\n",
       " 3.4543630139331345,\n",
       " 3.454382724285912,\n",
       " 3.4544024347561337,\n",
       " 3.454422145343799,\n",
       " 3.4544418560489096,\n",
       " 3.4544615668714687,\n",
       " 3.4544812778114746,\n",
       " 3.454500988868931,\n",
       " 3.4545207000438385,\n",
       " 3.4545404113361973,\n",
       " 3.4545601227460097,\n",
       " 3.454579834273278,\n",
       " 3.4545995459180023,\n",
       " 3.454619257680184,\n",
       " 3.4546389695598245,\n",
       " 3.4546586815569253,\n",
       " 3.4546783936714878,\n",
       " 3.4546981059035144,\n",
       " 3.4547178182530036,\n",
       " 3.4547375307199593]"
      ]
     },
     "execution_count": 346,
     "metadata": {},
     "output_type": "execute_result"
    }
   ],
   "source": [
    "mlpRegressorTest.train(a,b)\n"
   ]
  },
  {
   "cell_type": "code",
   "execution_count": null,
   "id": "e3e5342c",
   "metadata": {},
   "outputs": [],
   "source": []
  },
  {
   "cell_type": "code",
   "execution_count": 356,
   "id": "20ad08b9",
   "metadata": {},
   "outputs": [],
   "source": [
    "mlpRegressor = MLPRegressor(hidden_layer_sizes=(50,len(features)),learning_rate=1e-4)"
   ]
  },
  {
   "cell_type": "code",
   "execution_count": 357,
   "id": "a0b622a5",
   "metadata": {},
   "outputs": [
    {
     "name": "stdout",
     "output_type": "stream",
     "text": [
      "[[0.05197505 0.75       0.83333333 ... 0.45623836 0.08285229 0.09685535]\n",
      " [0.31185031 1.         0.33333333 ... 0.7122905  0.12852292 0.14937107]\n",
      " [0.07068607 1.         0.16666667 ... 0.49068901 0.08981324 0.10062893]\n",
      " ...\n",
      " [0.07276507 0.5        0.33333333 ... 0.49255121 0.09032258 0.10125786]\n",
      " [0.07068607 1.         0.33333333 ... 0.49068901 0.08913413 0.10125786]\n",
      " [0.03950104 0.75       0.5        ... 0.44134078 0.07962649 0.09025157]]\n"
     ]
    }
   ],
   "source": [
    "print(X_train)"
   ]
  },
  {
   "cell_type": "code",
   "execution_count": 358,
   "id": "1e7ee858",
   "metadata": {},
   "outputs": [],
   "source": [
    "losses_mlp = mlpRegressor.train(X_train,y_train)"
   ]
  },
  {
   "cell_type": "code",
   "execution_count": 359,
   "id": "0e63c5f4",
   "metadata": {},
   "outputs": [],
   "source": [
    "y_pred_mlp = mlpRegressor.predict(X_test)\n"
   ]
  },
  {
   "cell_type": "code",
   "execution_count": 360,
   "id": "b167fe36",
   "metadata": {},
   "outputs": [],
   "source": [
    "score_mlp = r2_score(y_pred_mlp, y_test)"
   ]
  },
  {
   "cell_type": "code",
   "execution_count": 361,
   "id": "948b3033",
   "metadata": {},
   "outputs": [
    {
     "name": "stdout",
     "output_type": "stream",
     "text": [
      "[[-855.90546184]\n",
      " [-855.90546184]\n",
      " [-855.90546184]\n",
      " ...\n",
      " [-855.90546184]\n",
      " [-855.90546184]\n",
      " [-855.90546184]]\n"
     ]
    }
   ],
   "source": [
    "print(y_pred_mlp)"
   ]
  },
  {
   "cell_type": "code",
   "execution_count": 362,
   "id": "7b221c09",
   "metadata": {},
   "outputs": [
    {
     "data": {
      "image/png": "[encoded data removed]",
      "text/plain": [
       "<Figure size 640x480 with 1 Axes>"
      ]
     },
     "metadata": {},
     "output_type": "display_data"
    }
   ],
   "source": [
    "plt.title(f'R2: {str(score_mlp)[:5]}')\n",
    "plt.hist(y_pred.reshape(1, -1)[0], bins=100, label='PREDICTION')\n",
    "plt.hist(y_test.reshape(1, -1)[0], bins=100, label='GT')\n",
    "plt.legend()\n",
    "plt.grid()"
   ]
  },
  {
   "cell_type": "code",
   "execution_count": 363,
   "id": "cb172c86",
   "metadata": {},
   "outputs": [
    {
     "data": {
      "image/png": "[encoded data removed]",
      "text/plain": [
       "<Figure size 640x480 with 1 Axes>"
      ]
     },
     "metadata": {},
     "output_type": "display_data"
    }
   ],
   "source": [
    "plt.plot(losses_mlp)\n",
    "plt.show()"
   ]
  },
  {
   "cell_type": "code",
   "execution_count": 364,
   "id": "7d9fa4db",
   "metadata": {},
   "outputs": [
    {
     "name": "stdout",
     "output_type": "stream",
     "text": [
      "[31527179.915822204, 31548079.214663558, 31572640.258907747, 31608493.176739797, 31660899.129094627, 31724068.410068378, 31788303.873868074, 31852214.807153296, 31916158.083301023, 31980271.71708234, 32044604.48198501, 32109176.454489455, 32173997.228930406, 32239072.06261713, 32304404.230532207, 32369996.027967926, 32435849.235287428, 32501965.348718442, 32568345.701637957, 32634991.531388447, 32701904.017582353, 32769084.304820303, 32836533.516564954, 32904252.76383164, 32972243.150754597, 33040505.77822229, 33109041.746293522, 33177852.15582811, 33246938.109603293, 33316300.713087656, 33385941.07498438, 33455860.307616826, 33526059.527205333, 33596539.85406828, 33667302.412769854, 33738348.332230166, 33809678.74580861, 33881294.7913679, 33953197.6113245, 34025388.35268904, 34097868.167099655, 34170638.21085015, 34243699.64491459, 34317053.63496913, 34390701.35141217, 34464643.96938307, 34538882.66878013, 34613418.63427799, 34688253.055344574, 34763387.12625801, 34838822.0461234, 34914559.01888965, 34990599.25336636, 35066943.963240795, 35143594.367095165, 35220551.68842385, 35297817.155651, 35375392.00214822, 35453277.46625246, 35531474.79128413, 35609985.22556534, 35688810.02243841, 35767950.44028444, 35847407.74254222, 35927183.19772714, 36007278.07945036, 36087693.666438125, 36168431.242551215, 36249492.09680458, 36330877.52338709, 36412588.821681425, 36494627.296284124, 36576994.25702575, 36659691.01899121, 36742718.90254016, 36826079.23332757, 36909773.34232437, 36993802.565838344, 37078168.245534904, 37162871.728458196, 37247914.36705224, 37333297.51918216, 37419022.54815554, 37505090.8227439, 37591503.717204295, 37678262.61130097, 37765368.89032714, 37852823.9451269, 37940629.172117226, 38028785.973310076, 38117295.756334536, 38206159.9344592, 38295379.92661451, 38384957.15741529, 38474893.05718336, 38565189.06197019, 38655846.61357977, 38746867.159591444, 38838252.153382994, 38930003.05415364]\n"
     ]
    },
    {
     "data": {
      "text/plain": [
       "38930003.05415364"
      ]
     },
     "execution_count": 364,
     "metadata": {},
     "output_type": "execute_result"
    }
   ],
   "source": [
    "print(losses_mlp)\n",
    "losses_mlp[-1]"
   ]
  }
 ],
 "metadata": {
  "kernelspec": {
   "display_name": "Python 3",
   "language": "python",
   "name": "python3"
  },
  "language_info": {
   "codemirror_mode": {
    "name": "ipython",
    "version": 3
   },
   "file_extension": ".py",
   "mimetype": "text/x-python",
   "name": "python",
   "nbconvert_exporter": "python",
   "pygments_lexer": "ipython3",
   "version": "3.10.12"
  }
 },
 "nbformat": 4,
 "nbformat_minor": 5
}
